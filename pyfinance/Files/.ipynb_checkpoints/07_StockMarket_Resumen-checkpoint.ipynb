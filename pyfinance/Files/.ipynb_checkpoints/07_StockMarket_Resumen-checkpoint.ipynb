{
  "cells": [
    {
      "cell_type": "markdown",
      "metadata": {},
      "source": "# Stock Market Analysis – Capstone (Resumen para Estudio)\n\n**Formato:** Notebook de estudio con teoría + ejemplos + ejercicios resueltos  \n**Fecha de preparación:** 2025-09-21 (UTC)\n\nEste cuaderno resume y estructura el proyecto *Stock Market Analysis Capstone* del curso (transcriptor provisto), con:\n- Explicaciones en **Markdown** (economía/finanzas en Python).\n- **Ejemplos** listos para ejecutar con `numpy`, `pandas` y `matplotlib`.\n- **Ejercicios resueltos** paso a paso.\n- Sección de **Time Series** con `statsmodels` (opcional).\n\n> **Nota sobre datos**: Si `pandas-datareader`/internet no están disponibles, usa los CSV locales (`TSLA.csv`, `F.csv`, `GM.csv`) o el generador de datos sintéticos incluido.\n"
    },
    {
      "cell_type": "markdown",
      "metadata": {},
      "source": "## 0. Setup e Importaciones"
    },
    {
      "cell_type": "code",
      "metadata": {},
      "execution_count": null,
      "outputs": [],
      "source": "import numpy as np\nimport pandas as pd\nimport matplotlib.pyplot as plt\n\n# %matplotlib inline  # Descomenta en Jupyter clásico\npd.set_option(\"display.float_format\", lambda x: f\"{x:,.4f}\")\nprint(\"Versiones -> pandas:\", pd.__version__)"
    },
    {
      "cell_type": "markdown",
      "metadata": {},
      "source": "## 1. Cargar Datos (TSLA, F, GM) – 2012-01-01 a 2017-01-01\n\nIntentamos en este orden:\n1) **CSV locales** (`TSLA.csv`, `F.csv`, `GM.csv`) con columnas: `Date, Open, High, Low, Close, Volume`.\n2) **Generador sintético** (si no hay CSV o internet).\n\n> Mantendremos `Date` como índice `DatetimeIndex`.\n"
    },
    {
      "cell_type": "code",
      "metadata": {},
      "execution_count": null,
      "outputs": [],
      "source": "from pathlib import Path\nimport numpy as np\nimport pandas as pd\n\ndef load_from_csv(ticker, fname):\n    p = Path(fname)\n    if not p.exists():\n        return None\n    df = pd.read_csv(p, parse_dates=[\"Date\"])\n    df = df.set_index(\"Date\").sort_index()\n    cols = {c: c.strip().title() for c in df.columns}\n    df = df.rename(columns=cols)\n    return df[[\"Open\",\"High\",\"Low\",\"Close\",\"Volume\"]]\n\ndef make_synthetic(ticker, start=\"2012-01-01\", end=\"2017-01-01\", seed=0):\n    rng = np.random.default_rng(abs(hash(ticker)) % (2**32) + seed)\n    dates = pd.date_range(start, end, freq=\"B\")\n    n = len(dates)\n    drift = {\"TSLA\": 0.0008, \"GM\": 0.0002, \"F\": 0.00015}.get(ticker, 0.0003)\n    vol = {\"TSLA\": 0.03, \"GM\": 0.015, \"F\": 0.012}.get(ticker, 0.02)\n    log_returns = rng.normal(drift, vol, size=n)\n    price = 20 * np.exp(np.cumsum(log_returns))\n    open_ = price\n    high = open_ * (1 + rng.normal(0.001, 0.01, size=n).clip(-0.02, 0.05))\n    low  = open_ * (1 - rng.normal(0.001, 0.01, size=n).clip(-0.05, 0.02))\n    close = open_ * (1 + rng.normal(0, 0.01, size=n))\n    volume = rng.integers(1e6, 5e6, size=n) * (1 + (ticker==\"TSLA\")*rng.choice([0,5], size=n, p=[0.98,0.02]))\n    df = pd.DataFrame({\"Open\":open_, \"High\":high, \"Low\":low, \"Close\":close, \"Volume\":volume}, index=dates)\n    df.index.name = \"Date\"\n    return df\n\ndef get_ticker_df(ticker, csv_name):\n    df = load_from_csv(ticker, csv_name)\n    if df is None or df.empty:\n        print(f\"[{ticker}] CSV no encontrado. Generando datos sintéticos…\")\n        df = make_synthetic(ticker)\n    df = df.loc[\"2012-01-01\":\"2017-01-01\"]\n    return df\n\nTSLA = get_ticker_df(\"TSLA\", \"TSLA.csv\")\nF    = get_ticker_df(\"F\",    \"F.csv\")\nGM   = get_ticker_df(\"GM\",   \"GM.csv\")\n\nTSLA.head()"
    },
    {
      "cell_type": "markdown",
      "metadata": {},
      "source": "## 2. Visualización Básica\n\n### 2.1 Precio de Apertura (Open)\nComparación simple para intuir niveles (ojo: **no** refleja capitalización).\n"
    },
    {
      "cell_type": "code",
      "metadata": {},
      "execution_count": null,
      "outputs": [],
      "source": "import matplotlib.pyplot as plt\nplt.figure(figsize=(14,6))\nTSLA['Open'].plot(label='TSLA')\nGM['Open'].plot(label='GM')\nF['Open'].plot(label='F')\nplt.title('Precio de Apertura')\nplt.legend(); plt.tight_layout()"
    },
    {
      "cell_type": "markdown",
      "metadata": {},
      "source": "### 2.2 Volumen Diario\nÚtil para detectar **spikes** inusuales y posibles eventos.\n"
    },
    {
      "cell_type": "code",
      "metadata": {},
      "execution_count": null,
      "outputs": [],
      "source": "plt.figure(figsize=(14,6))\nTSLA['Volume'].plot(label='TSLA')\nGM['Volume'].plot(label='GM')\nF['Volume'].plot(label='F')\nplt.title('Volumen Diario')\nplt.legend(); plt.tight_layout()"
    },
    {
      "cell_type": "markdown",
      "metadata": {},
      "source": "### 2.3 *Total Traded* (aprox. dinero intercambiado)\n`TotalTraded = Open × Volume` (no es market cap; fin didáctico).\n"
    },
    {
      "cell_type": "code",
      "metadata": {},
      "execution_count": null,
      "outputs": [],
      "source": "for df in (TSLA, GM, F):\n    df['TotalTraded'] = df['Open'] * df['Volume']\n\nplt.figure(figsize=(14,6))\nTSLA['TotalTraded'].plot(label='TSLA')\nGM['TotalTraded'].plot(label='GM')\nF['TotalTraded'].plot(label='F')\nplt.title('Total Traded ≈ Open × Volume')\nplt.legend(); plt.tight_layout()"
    },
    {
      "cell_type": "markdown",
      "metadata": {},
      "source": "**Ejercicio resuelto (evento en pico de volumen – Ford):**\n1) Encuentra la fecha de **máximo volumen** en `F`.\n2) Muestra el precio de apertura ese día.\n"
    },
    {
      "cell_type": "code",
      "metadata": {},
      "execution_count": null,
      "outputs": [],
      "source": "peak_date = F['Volume'].idxmax()\npeak_vol  = F.loc[peak_date, 'Volume']\npeak_open = F.loc[peak_date, 'Open']\nprint(f\"Máximo volumen F en {peak_date.date()} -> {int(peak_vol):,} | Open = {peak_open:,.2f}\")"
    },
    {
      "cell_type": "markdown",
      "metadata": {},
      "source": "## 3. Medias Móviles y Scatter Matrix\n\n### 3.1 Medias móviles (GM)\nMA(50) y MA(200) para suavizar tendencia/estructura.\n"
    },
    {
      "cell_type": "code",
      "metadata": {},
      "execution_count": null,
      "outputs": [],
      "source": "GM['MA50']  = GM['Open'].rolling(50).mean()\nGM['MA200'] = GM['Open'].rolling(200).mean()\nGM[['Open','MA50','MA200']].plot(figsize=(14,6), title='GM – Open & MAs')\nplt.tight_layout()"
    },
    {
      "cell_type": "markdown",
      "metadata": {},
      "source": "### 3.2 Scatter Matrix (Open)\nVisualiza relaciones entre precios de apertura.\n"
    },
    {
      "cell_type": "code",
      "metadata": {},
      "execution_count": null,
      "outputs": [],
      "source": "from pandas.plotting import scatter_matrix\nopen_df = pd.concat(\n    [TSLA['Open'].rename('TSLA_Open'),\n     GM['Open'].rename('GM_Open'),\n     F['Open'].rename('F_Open')],\n    axis=1\n)\n_ = scatter_matrix(open_df, figsize=(8,8), alpha=0.3, hist_kwds={'bins': 50})"
    },
    {
      "cell_type": "markdown",
      "metadata": {},
      "source": "## 4. Retornos Diarios y Volatilidad\n\n**Definición (retorno diario):**\n\\( r_t = \\frac{P_t}{P_{t-1}} - 1 \\)\n\nUsaremos `pct_change()` de pandas sobre `Close`.\n"
    },
    {
      "cell_type": "code",
      "metadata": {},
      "execution_count": null,
      "outputs": [],
      "source": "for df in (TSLA, GM, F):\n    df['Return'] = df['Close'].pct_change()\nTSLA[['Close','Return']].head()"
    },
    {
      "cell_type": "markdown",
      "metadata": {},
      "source": "### 4.1 Histogramas superpuestos (volatilidad relativa)\nDistribuciones más anchas ⇒ **más volatilidad**.\n"
    },
    {
      "cell_type": "code",
      "metadata": {},
      "execution_count": null,
      "outputs": [],
      "source": "plt.figure(figsize=(12,6))\nfor name, df in [('TSLA', TSLA), ('GM', GM), ('F', F)]:\n    df['Return'].hist(bins=100, alpha=0.5, label=name)\nplt.title('Distribución de Retornos Diarios (Close)')\nplt.legend(); plt.tight_layout()"
    },
    {
      "cell_type": "markdown",
      "metadata": {},
      "source": "### 4.2 KDE (curvas de densidad) y Boxplots\nOtra forma de comparar estabilidad.\n"
    },
    {
      "cell_type": "code",
      "metadata": {},
      "execution_count": null,
      "outputs": [],
      "source": "plt.figure(figsize=(12,6))\nTSLA['Return'].plot(kind='kde', label='TSLA')\nGM['Return'].plot(kind='kde', label='GM')\nF['Return'].plot(kind='kde', label='F')\nplt.title('KDE Retornos Diarios'); plt.legend(); plt.tight_layout()\n\nbox_df = pd.concat([\n    TSLA['Return'].rename('TSLA'),\n    GM['Return'].rename('GM'),\n    F['Return'].rename('F')\n], axis=1)\n\nbox_df.plot(kind='box', figsize=(10,6), title='Boxplot de Retornos')\nplt.tight_layout()"
    },
    {
      "cell_type": "markdown",
      "metadata": {},
      "source": "### 4.3 Correlaciones de retornos\nScatter matrix de retornos para ver relaciones lineales.\n"
    },
    {
      "cell_type": "code",
      "metadata": {},
      "execution_count": null,
      "outputs": [],
      "source": "from pandas.plotting import scatter_matrix\n_ = scatter_matrix(box_df.dropna(), figsize=(8,8), alpha=0.3, hist_kwds={'bins': 80})"
    },
    {
      "cell_type": "markdown",
      "metadata": {},
      "source": "**Ejercicio resuelto (dispersión F vs GM):**\nCrea un *scatter plot* de `Return` de F (eje X) vs GM (eje Y).\n"
    },
    {
      "cell_type": "code",
      "metadata": {},
      "execution_count": null,
      "outputs": [],
      "source": "_ = box_df.plot(kind='scatter', x='F', y='GM', figsize=(7,7), alpha=0.4, title='F vs GM (Retornos)')"
    },
    {
      "cell_type": "markdown",
      "metadata": {},
      "source": "## 5. Cumulative Daily Returns (CDR)\n\n**Idea:** Evolución de $1 invertido al inicio.\nFórmula con producto acumulado:  \n\\[ \\text{CDR}_t = \\prod_{i=1}^{t} (1 + r_i) = \\operatorname{cumprod}(1 + r) \\]\n"
    },
    {
      "cell_type": "code",
      "metadata": {},
      "execution_count": null,
      "outputs": [],
      "source": "for df in (TSLA, GM, F):\n    df['CDR'] = (1 + df['Return']).cumprod()\n\nplt.figure(figsize=(14,6))\nTSLA['CDR'].plot(label='TSLA')\nGM['CDR'].plot(label='GM')\nF['CDR'].plot(label='F')\nplt.title('Cumulative Daily Returns (Base = 1 en la primera fecha)')\nplt.legend(); plt.tight_layout()"
    },
    {
      "cell_type": "markdown",
      "metadata": {},
      "source": "**Ejercicio resuelto:**\n¿Cuál tuvo mayor/menor CDR final en el período?\n"
    },
    {
      "cell_type": "code",
      "metadata": {},
      "execution_count": null,
      "outputs": [],
      "source": "cdr_end = pd.Series({\n    'TSLA': TSLA['CDR'].dropna().iloc[-1],\n    'GM':   GM['CDR'].dropna().iloc[-1],\n    'F':    F['CDR'].dropna().iloc[-1],\n}).sort_values(ascending=False)\n\nprint(\"CDR final (mayor→menor):\\n\", cdr_end.to_frame('CDR_final'))"
    },
    {
      "cell_type": "markdown",
      "metadata": {},
      "source": "## 6. Bonus (Opcional): Candlestick de un mes\n\n> Requiere librería `mplfinance`. Si no está instalada, puedes omitir esta sección.\nEjemplo: Ford, enero 2012.\n"
    },
    {
      "cell_type": "code",
      "metadata": {},
      "execution_count": null,
      "outputs": [],
      "source": "try:\n    import mplfinance as mpf\n    F_2012_01 = F.loc['2012-01-01':'2012-01-31'][['Open','High','Low','Close','Volume']]\n    mpf.plot(F_2012_01, type='candle', mav=(5,10), volume=True, title='F – Enero 2012')\nexcept Exception as e:\n    print(\"Candlestick omitido (instala 'mplfinance' para habilitar). Error:\", e)"
    },
    {
      "cell_type": "markdown",
      "metadata": {},
      "source": "## 7. Time Series – Conceptos Básicos\n\n- **Trend (tendencia):** Comportamiento medio (↑, →, ↓) en ventanas amplias.\n- **Seasonality (estacionalidad):** Patrones repetitivos con período fijo (p. ej., anual).\n- **Cyclic (cíclico):** Fluctuaciones sin período fijo (p. ej., ciclos económicos).\n\n### 7.1 Demo de tendencia con filtro HP (Statsmodels) – Opcional\n"
    },
    {
      "cell_type": "code",
      "metadata": {},
      "execution_count": null,
      "outputs": [],
      "source": "try:\n    import statsmodels.api as sm\n    # Nota: lambda=1600 es típico para datos trimestrales; ajusta para diarios si lo deseas.\n    cycle, trend = sm.tsa.filters.hpfilter(GM['Open'].dropna(), lamb=1600)\n    trend.name = 'Trend_HP'\n    pd.concat([GM['Open'], trend], axis=1).plot(figsize=(12,5), title='GM.Open + Tendencia (HP Filter)')\n    plt.tight_layout()\nexcept Exception as e:\n    print(\"Statsmodels no disponible. Se omite demo HP. Error:\", e)"
    },
    {
      "cell_type": "markdown",
      "metadata": {},
      "source": "## 8. Resumen Clave (para repaso rápido)\n\n- **Carga de datos:** usa CSV locales si `datareader` no funciona.\n- **Gráficos base:** precios, volumen; *TotalTraded* = `Open × Volume` (solo aproximación).\n- **Eventos:** picos en volumen pueden señalar noticias relevantes.\n- **Medias móviles:** MA(50), MA(200) para suavizar y ver estructura.\n- **Retornos diarios:** `pct_change()`; volatilidad ↔ anchura de la distribución.\n- **Comparaciones:** KDE, boxplots y *scatter matrix* (precios y retornos).\n- **CDR:** producto acumulado de (1 + retorno) = rendimiento de $1 invertido.\n- **Time Series:** diferencia entre tendencia, estacionalidad y ciclos; filtros (HP) opcionales.\n"
    }
  ],
  "metadata": {
    "kernelspec": {
      "display_name": "Python 3",
      "language": "python",
      "name": "python3"
    },
    "language_info": {
      "name": "python",
      "version": "3.x"
    }
  },
  "nbformat": 4,
  "nbformat_minor": 5
}