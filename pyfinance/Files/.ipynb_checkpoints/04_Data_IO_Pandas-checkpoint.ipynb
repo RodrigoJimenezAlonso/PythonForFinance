{
 "cells": [
  {
   "cell_type": "code",
   "execution_count": 1,
   "id": "5617c672-1e47-435a-bb2d-d4593754c001",
   "metadata": {},
   "outputs": [
    {
     "name": "stdout",
     "output_type": "stream",
     "text": [
      "¡Entorno pyfinance listo!\n"
     ]
    }
   ],
   "source": [
    "# Part 1 – Data I/O with Pandas\n",
    "Goal: Learn how to read and write data in the formats you'll use as a quant developer:\n",
    "- CSV (`pd.read_csv`, `df.to_csv(index=False)`)\n",
    "- Excel (`pd.read_excel`, `df.to_excel`)\n",
    "- HTML tables (`pd.read_html`)\n",
    "- SQL (with SQLite demo)\n",
    "Tip: use `%pwd` in Jupyter to see your working directory.\n"
   ]
  },
  {
   "cell_type": "code",
   "execution_count": 2,
   "id": "9f2b23f6-72bf-4d31-a674-77d0b245ad37",
   "metadata": {},
   "outputs": [
    {
     "data": {
      "text/plain": [
       "4"
      ]
     },
     "execution_count": 2,
     "metadata": {},
     "output_type": "execute_result"
    }
   ],
   "source": [
    "2+2\n"
   ]
  },
  {
   "cell_type": "code",
   "execution_count": null,
   "id": "4f3a8b27-744a-4407-a8da-85eacfaa5c7c",
   "metadata": {},
   "outputs": [],
   "source": []
  }
 ],
 "metadata": {
  "kernelspec": {
   "display_name": "Python 3 (ipykernel)",
   "language": "python",
   "name": "python3"
  },
  "language_info": {
   "codemirror_mode": {
    "name": "ipython",
    "version": 3
   },
   "file_extension": ".py",
   "mimetype": "text/x-python",
   "name": "python",
   "nbconvert_exporter": "python",
   "pygments_lexer": "ipython3",
   "version": "3.11.13"
  }
 },
 "nbformat": 4,
 "nbformat_minor": 5
}
