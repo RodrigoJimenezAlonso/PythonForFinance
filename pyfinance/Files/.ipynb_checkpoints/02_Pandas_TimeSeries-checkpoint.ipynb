{
 "cells": [
  {
   "cell_type": "markdown",
   "id": "fd80beb6",
   "metadata": {},
   "source": [
    "# 📊 Pandas Time Series — Master Notebook\n",
    "Este cuaderno contiene explicaciones resumidas, ejemplos y ejercicios resueltos sobre manejo de series temporales en Pandas: DateTimeIndex, resampling, shifting, rolling/expanding y bandas de Bollinger."
   ]
  },
  {
   "cell_type": "code",
   "execution_count": null,
   "id": "db015c89",
   "metadata": {},
   "outputs": [],
   "source": [
    "import numpy as np\n",
    "import pandas as pd\n",
    "import matplotlib.pyplot as plt\n",
    "%matplotlib inline\n",
    "\n",
    "plt.rcParams[\"figure.figsize\"] = (12, 4)\n",
    "plt.rcParams[\"axes.grid\"] = True\n",
    "\n",
    "# Generador reproducible\n",
    "rng = np.random.default_rng(7)\n",
    "\n",
    "# Si no tienes el dataset de Walmart, se sintetiza uno para que el notebook sea ejecutable.\n",
    "def load_walmart():\n",
    "    dates = pd.date_range(\"2012-01-03\", periods=1250, freq=\"B\")  # ~5 años\n",
    "    price = 60 + np.cumsum(rng.normal(0, 0.3, len(dates)))\n",
    "    high = price + rng.normal(0.2, 0.15, len(dates)).clip(min=0)\n",
    "    low  = price - rng.normal(0.2, 0.15, len(dates)).clip(min=0)\n",
    "    open_ = price + rng.normal(0, 0.15, len(dates))\n",
    "    volume = rng.integers(2_000_000, 6_000_000, len(dates))\n",
    "\n",
    "    return pd.DataFrame({\n",
    "        \"Open\": open_, \"High\": high, \"Low\": low, \"Close\": price,\n",
    "        \"Volume\": volume, \"Adj Close\": price\n",
    "    }, index=dates)\n",
    "\n",
    "WMT = load_walmart()\n",
    "WMT.head()\n"
   ]
  },
  {
   "cell_type": "markdown",
   "id": "24bff828",
   "metadata": {},
   "source": [
    "## 1) Datetime y DatetimeIndex\n",
    "Python ofrece el módulo `datetime`. Pandas puede convertir listas de datetime en índices especiales."
   ]
  },
  {
   "cell_type": "code",
   "execution_count": null,
   "id": "209e73c4",
   "metadata": {},
   "outputs": [],
   "source": [
    "from datetime import datetime\n",
    "\n",
    "my_dt = datetime(2017, 1, 2, 13, 30, 15)\n",
    "print(my_dt, \"| type:\", type(my_dt))\n",
    "print(\"Year:\", my_dt.year, \"Month:\", my_dt.month, \"Day:\", my_dt.day)\n",
    "\n",
    "# Crear DatetimeIndex\n",
    "dt_index = pd.DatetimeIndex([datetime(2016,1,1), datetime(2016,1,2)])\n",
    "df = pd.DataFrame(np.random.randn(2,2), index=dt_index, columns=[\"A\",\"B\"])\n",
    "df\n"
   ]
  },
  {
   "cell_type": "markdown",
   "id": "d6fad601",
   "metadata": {},
   "source": [
    "## 2) Resampling\n",
    "Permite reagrupar por frecuencia de tiempo, similar a `groupby`. Ejemplo:"
   ]
  },
  {
   "cell_type": "code",
   "execution_count": null,
   "id": "f92d54b9",
   "metadata": {},
   "outputs": [],
   "source": [
    "# Promedio anual del cierre\n",
    "annual_mean = WMT['Close'].resample(\"A\").mean()\n",
    "annual_mean.plot(kind=\"bar\", title=\"Promedio anual del precio de cierre\");\n"
   ]
  },
  {
   "cell_type": "markdown",
   "id": "b5692854",
   "metadata": {},
   "source": [
    "## 3) Shifting\n",
    "Desplaza datos hacia adelante o atrás en el tiempo."
   ]
  },
  {
   "cell_type": "code",
   "execution_count": null,
   "id": "0d78ab12",
   "metadata": {},
   "outputs": [],
   "source": [
    "shifted = WMT.shift(periods=1)\n",
    "pd.concat([WMT['Close'].head(3), shifted['Close'].head(3)], axis=1).rename(\n",
    "    columns={\"Close\":\"Original\",\"Close\":\"Shifted\"}\n",
    ")\n"
   ]
  },
  {
   "cell_type": "markdown",
   "id": "b931efe0",
   "metadata": {},
   "source": [
    "## 4) Rolling & Expanding\n",
    "Rolling calcula medias móviles, expanding calcula promedio acumulado desde el inicio."
   ]
  },
  {
   "cell_type": "code",
   "execution_count": null,
   "id": "d4cc2933",
   "metadata": {},
   "outputs": [],
   "source": [
    "ax = WMT['Close'].plot(alpha=0.4, label=\"Close\")\n",
    "WMT['Close'].rolling(window=30).mean().plot(ax=ax, label=\"30D MA\")\n",
    "plt.legend()\n",
    "plt.title(\"Media móvil de 30 días\");\n"
   ]
  },
  {
   "cell_type": "code",
   "execution_count": null,
   "id": "81188b48",
   "metadata": {},
   "outputs": [],
   "source": [
    "# Expanding mean\n",
    "WMT['Close'].expanding(min_periods=1).mean().plot(title=\"Expanding Mean\");\n"
   ]
  },
  {
   "cell_type": "markdown",
   "id": "23d947f4",
   "metadata": {},
   "source": [
    "## 5) Bollinger Bands\n",
    "Indicador técnico: banda superior e inferior = media ± 2*desviación estándar."
   ]
  },
  {
   "cell_type": "code",
   "execution_count": null,
   "id": "c3ee8abe",
   "metadata": {},
   "outputs": [],
   "source": [
    "df = WMT.copy()\n",
    "df['20dMA'] = df['Close'].rolling(window=20).mean()\n",
    "df['Upper'] = df['20dMA'] + 2*df['Close'].rolling(window=20).std()\n",
    "df['Lower'] = df['20dMA'] - 2*df['Close'].rolling(window=20).std()\n",
    "\n",
    "df[['Close','20dMA','Upper','Lower']].tail(250).plot(figsize=(14,5),\n",
    "    title=\"Bollinger Bands (últimos 250 días)\");\n"
   ]
  }
 ],
 "metadata": {},
 "nbformat": 4,
 "nbformat_minor": 5
}
