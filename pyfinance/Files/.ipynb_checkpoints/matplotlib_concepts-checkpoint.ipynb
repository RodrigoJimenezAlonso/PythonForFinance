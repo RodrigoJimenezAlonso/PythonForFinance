{
 "cells": [
  {
   "cell_type": "markdown",
   "id": "67bd1827",
   "metadata": {},
   "source": [
    "# Matplotlib Concepts (Functional & OO API, Subplots, Styles, Legends, Lines/Markers, Savefig)"
   ]
  },
  {
   "cell_type": "code",
   "execution_count": null,
   "id": "69767442",
   "metadata": {},
   "outputs": [],
   "source": [
    "\n",
    "import numpy as np\n",
    "import matplotlib.pyplot as plt\n",
    "\n",
    "# For static renderers (Jupyter)\n",
    "# %matplotlib inline  # Uncomment if needed in your environment\n",
    "\n",
    "x = np.linspace(0,5,11)\n",
    "y = x**2\n",
    "x[:5], y[:5]\n"
   ]
  },
  {
   "cell_type": "markdown",
   "id": "28457bcf",
   "metadata": {},
   "source": [
    "## Functional API (quick)"
   ]
  },
  {
   "cell_type": "code",
   "execution_count": null,
   "id": "5cb2d612",
   "metadata": {},
   "outputs": [],
   "source": [
    "\n",
    "plt.plot(x, y)\n",
    "plt.xlabel(\"X label\"); plt.ylabel(\"Y label\"); plt.title(\"Title\");\n"
   ]
  },
  {
   "cell_type": "markdown",
   "id": "57fe0429",
   "metadata": {},
   "source": [
    "## OO API (preferred)"
   ]
  },
  {
   "cell_type": "code",
   "execution_count": null,
   "id": "82f431f5",
   "metadata": {},
   "outputs": [],
   "source": [
    "\n",
    "fig = plt.figure(figsize=(5,3))\n",
    "ax = fig.add_axes([0.1,0.1,0.8,0.8])\n",
    "ax.plot(x, y)\n",
    "ax.set_xlabel(\"X\"); ax.set_ylabel(\"Y\"); ax.set_title(\"Squared\");\n",
    "plt.show()\n"
   ]
  },
  {
   "cell_type": "markdown",
   "id": "d2e1fedc",
   "metadata": {},
   "source": [
    "## Subplots grid"
   ]
  },
  {
   "cell_type": "code",
   "execution_count": null,
   "id": "d52f48dd",
   "metadata": {},
   "outputs": [],
   "source": [
    "\n",
    "fig, axes = plt.subplots(nrows=1, ncols=2, figsize=(8,3))\n",
    "axes[0].plot(x, y); axes[0].set_title(\"x^2\")\n",
    "axes[1].plot(y, x); axes[1].set_title(\"swap\")\n",
    "fig.tight_layout()\n"
   ]
  },
  {
   "cell_type": "markdown",
   "id": "3dc0df9f",
   "metadata": {},
   "source": [
    "## Figure size, linewidth, linestyle, markers, legend"
   ]
  },
  {
   "cell_type": "code",
   "execution_count": null,
   "id": "68f17255",
   "metadata": {},
   "outputs": [],
   "source": [
    "\n",
    "fig, ax = plt.subplots(figsize=(6,3))\n",
    "ax.plot(x, x**2, label=\"x^2\", linewidth=2, linestyle=\"--\", color=\"C0\", marker=\"o\", markersize=5)\n",
    "ax.plot(x, x**3, label=\"x^3\", linewidth=2, linestyle=\"-.\", color=\"C1\", marker=\"s\", markersize=5)\n",
    "ax.legend(loc=0)\n",
    "ax.set_title(\"Lines & Markers\")\n"
   ]
  },
  {
   "cell_type": "markdown",
   "id": "d2decb82",
   "metadata": {},
   "source": [
    "## Save figure"
   ]
  },
  {
   "cell_type": "code",
   "execution_count": null,
   "id": "76e91b6c",
   "metadata": {},
   "outputs": [],
   "source": [
    "\n",
    "fig.savefig(\"example_plot.png\", dpi=150)\n",
    "\"Saved to example_plot.png\"\n"
   ]
  },
  {
   "cell_type": "markdown",
   "id": "60f63fcb",
   "metadata": {},
   "source": [
    "## Special plots (scatter, hist, box)"
   ]
  },
  {
   "cell_type": "code",
   "execution_count": null,
   "id": "39adc264",
   "metadata": {},
   "outputs": [],
   "source": [
    "\n",
    "fig, axs = plt.subplots(1,3, figsize=(10,3))\n",
    "rng = np.random.default_rng(0)\n",
    "data = rng.normal(size=500)\n",
    "axs[0].scatter(x, y); axs[0].set_title(\"scatter\")\n",
    "axs[1].hist(data, bins=20); axs[1].set_title(\"hist\")\n",
    "axs[2].boxplot([data, data*1.5]); axs[2].set_title(\"box\")\n",
    "fig.tight_layout()\n"
   ]
  },
  {
   "cell_type": "markdown",
   "id": "920fd131",
   "metadata": {},
   "source": [
    "## Exercises (solved)"
   ]
  },
  {
   "cell_type": "code",
   "execution_count": null,
   "id": "0b8afda8",
   "metadata": {},
   "outputs": [],
   "source": [
    "\n",
    "# E1: 2x1 subplots, top plot x^2, bottom x^3 with titles\n",
    "fig, axs = plt.subplots(2,1, figsize=(5,5))\n",
    "axs[0].plot(x, x**2); axs[0].set_title(\"x^2\")\n",
    "axs[1].plot(x, x**3); axs[1].set_title(\"x^3\")\n",
    "fig.tight_layout()\n"
   ]
  }
 ],
 "metadata": {},
 "nbformat": 4,
 "nbformat_minor": 5
}
