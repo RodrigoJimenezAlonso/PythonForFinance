{
 "cells": [
  {
   "cell_type": "markdown",
   "id": "f722d27e",
   "metadata": {},
   "source": [
    "# ETS, EMA, and ARIMA — Self‑Guided Notes (with Solved Exercises)\n",
    "\n",
    "**Goal:** Learn and re‑learn time‑series essentials *without external context*:\n",
    "- ETS (Error, Trend, Seasonality) **decomposition**\n",
    "- SMA vs **EMA** (Exponential Moving Average) and `pandas.DataFrame.ewm`\n",
    "- **ARIMA** (AR, I, MA), **stationarity**, **differencing**, **ADF test**\n",
    "\n",
    "**Date:** 2025-09-22 (UTC)\n",
    "\n",
    "### How to use this notebook\n",
    "Each section follows: **What & Why → Steps → Worked Example(s) → Checks → Common Pitfalls**.  \n",
    "All exercises are **solved**, so you can follow and replicate them later.\n",
    "This notebook is **self‑contained** (it generates synthetic Airline data if no CSV is present).\n"
   ]
  },
  {
   "cell_type": "markdown",
   "id": "50f8d49d",
   "metadata": {},
   "source": [
    "---\n",
    "## Requirements\n",
    "- Python 3.x, `pandas`, `numpy`, `matplotlib`\n",
    "- Optional: `statsmodels` (for ETS decomposition & ADF test)\n",
    "\n",
    "> All plots use plain `matplotlib`.\n"
   ]
  },
  {
   "cell_type": "markdown",
   "id": "0e0f0731",
   "metadata": {},
   "source": [
    "## 0) Setup"
   ]
  },
  {
   "cell_type": "code",
   "execution_count": null,
   "id": "14385dbe",
   "metadata": {},
   "outputs": [],
   "source": [
    "import numpy as np\n",
    "import pandas as pd\n",
    "import matplotlib.pyplot as plt\n",
    "\n",
    "# %matplotlib inline  # Uncomment in classic Jupyter\n",
    "pd.set_option(\"display.float_format\", lambda x: f\"{x:,.6f}\")\n",
    "print(\"Ready. pandas:\", pd.__version__)"
   ]
  },
  {
   "cell_type": "markdown",
   "id": "ff8016fe",
   "metadata": {},
   "source": [
    "## 1) Data — Airline Passengers (load or generate)\n",
    "\n",
    "**What & Why**  \n",
    "We'll use the classic *Airline Passengers* monthly series (1949–1960). If the CSV isn't available,\n",
    "we generate a realistic synthetic series with trend + yearly seasonality + noise.\n",
    "\n",
    "**Expected structure**: one column of values, monthly `DatetimeIndex`.\n"
   ]
  },
  {
   "cell_type": "code",
   "execution_count": null,
   "id": "09460228",
   "metadata": {},
   "outputs": [],
   "source": [
    "from pathlib import Path\n",
    "\n",
    "def load_airline_csv(possible_names=('AirlinePassengers.csv','airline_passengers.csv','Airline_Passengers.csv')):\n",
    "    for name in possible_names:\n",
    "        p = Path(name)\n",
    "        if p.exists():\n",
    "            df = pd.read_csv(p)\n",
    "            # Flexible column handling\n",
    "            date_col = None\n",
    "            for c in df.columns:\n",
    "                if str(c).lower().startswith('month') or str(c).lower().startswith('date'):\n",
    "                    date_col = c; break\n",
    "            value_col = None\n",
    "            for c in df.columns:\n",
    "                if c != date_col:\n",
    "                    value_col = c; break\n",
    "            df[date_col] = pd.to_datetime(df[date_col], errors='coerce')\n",
    "            df = df.dropna(subset=[date_col, value_col]).set_index(date_col).sort_index()\n",
    "            df = df.rename(columns={value_col: 'Passengers'})\n",
    "            # enforce monthly freq style index (not strictly required)\n",
    "            return df[['Passengers']]\n",
    "    return None\n",
    "\n",
    "def make_synthetic_airline(start='1949-01-01', end='1960-12-01', seed=7):\n",
    "    rng = np.random.default_rng(seed)\n",
    "    idx = pd.date_range(start, end, freq='MS')  # Month Start\n",
    "    n = len(idx)\n",
    "    # Trend (slightly accelerating)\n",
    "    t = np.arange(n)\n",
    "    trend = 100 + 0.9*t + 0.004*(t**2)\n",
    "    # Yearly seasonality (period=12)\n",
    "    season = 15*np.sin(2*np.pi*t/12) + 8*np.cos(2*np.pi*t/12)\n",
    "    noise = rng.normal(0, 6, size=n)\n",
    "    y = trend + season + noise\n",
    "    # Make it strictly positive and a bit \"count-like\"\n",
    "    y = np.maximum(y, 1.0)\n",
    "    df = pd.DataFrame({'Passengers': y}, index=idx)\n",
    "    return df\n",
    "\n",
    "airline = load_airline_csv()\n",
    "if airline is None:\n",
    "    print(\"CSV not found → using synthetic Airline series.\")\n",
    "    airline = make_synthetic_airline()\n",
    "\n",
    "airline = airline.asfreq('MS')  # monthly start\n",
    "airline = airline.dropna()\n",
    "airline.head()"
   ]
  },
  {
   "cell_type": "code",
   "execution_count": null,
   "id": "b18151c7",
   "metadata": {},
   "outputs": [],
   "source": [
    "# Quick plot\n",
    "plt.figure(figsize=(10,4))\n",
    "airline['Passengers'].plot(title='Airline Passengers (monthly)')\n",
    "plt.tight_layout()"
   ]
  },
  {
   "cell_type": "markdown",
   "id": "fe6cb49e",
   "metadata": {},
   "source": [
    "**Checks**\n",
    "- Index is monthly (`MS`), monotonic.\n",
    "- Column name is `Passengers`.\n",
    "- Values are positive (makes multiplicative decomposition meaningful).\n",
    "\n",
    "**Common pitfalls**\n",
    "- Not converting dates → string index behaves badly in time ops.\n",
    "- Missing months → decomposition/ACF/PACF may complain.\n"
   ]
  },
  {
   "cell_type": "markdown",
   "id": "25be1a73",
   "metadata": {},
   "source": [
    "## ✨ Concept: ETS\n",
    "ETS stands for Error, Trend, and Seasonality.  \n",
    "It helps you decompose a time series into its main components to better understand patterns.  \n",
    "We'll use `statsmodels.tsa.seasonal_decompose` to visualize each component separately.\n",
    "\n",
    "## ✨ Concept: EMA\n",
    "EMA = Exponential Moving Average.  \n",
    "It gives more weight to recent observations and reacts faster to changes than a simple moving average (SMA).\n",
    "\n",
    "## ✨ Concept: ARIMA\n",
    "ARIMA stands for AutoRegressive Integrated Moving Average.  \n",
    "It is a powerful model for forecasting time series by combining:\n",
    "- **AR (AutoRegressive):** relationship with past values  \n",
    "- **I (Integrated):** differencing to remove trends  \n",
    "- **MA (Moving Average):** modeling residual errors\n",
    "\n",
    "\n",
    "\n",
    "\n",
    "## 2) ETS Decomposition (Error–Trend–Seasonality)\n",
    "\n",
    "**What**  \n",
    "ETS decomposition separates a series into **Trend**, **Seasonal**, and **Residual** components.\n",
    "\n",
    "**Why**  \n",
    "- See structure clearly (is there a trend? is seasonality stable?).\n",
    "- Choose between **additive** vs **multiplicative** components.\n",
    "  - *Additive*: `observed = trend + seasonal + residual` (roughly constant amplitude)\n",
    "  - *Multiplicative*: `observed = trend × seasonal × residual` (amplitude grows with level)\n",
    "\n",
    "**Steps**\n",
    "1. Ensure a proper `DatetimeIndex` and regular frequency.\n",
    "2. Optionally drop/forward‑fill missing values.\n",
    "3. Call `statsmodels.tsa.seasonal.seasonal_decompose`.\n"
   ]
  },
  {
   "cell_type": "code",
   "execution_count": null,
   "id": "4ae14a3d",
   "metadata": {},
   "outputs": [],
   "source": [
    "# Worked example: additive vs multiplicative\n",
    "try:\n",
    "    from statsmodels.tsa.seasonal import seasonal_decompose\n",
    "    y = airline['Passengers']\n",
    "\n",
    "    # Additive\n",
    "    add_res = seasonal_decompose(y, model='additive', period=12)\n",
    "    fig = add_res.plot()\n",
    "    plt.suptitle('ETS Decomposition — Additive', y=1.02)\n",
    "    plt.tight_layout()\n",
    "\n",
    "    # Multiplicative\n",
    "    mul_res = seasonal_decompose(y, model='multiplicative', period=12)\n",
    "    fig = mul_res.plot()\n",
    "    plt.suptitle('ETS Decomposition — Multiplicative', y=1.02)\n",
    "    plt.tight_layout()\n",
    "\n",
    "except Exception as e:\n",
    "    print(\"Install statsmodels to run ETS decomposition. Error:\", e)"
   ]
  },
  {
   "cell_type": "markdown",
   "id": "cf8cca6f",
   "metadata": {},
   "source": [
    "**Interpretation tips**\n",
    "- **Trend** sloping upward → long-run growth.\n",
    "- **Seasonal** repeating pattern (e.g., summer peaks).\n",
    "- **Residual** should look like unstructured noise (no pattern).\n",
    "\n",
    "**Common pitfalls**\n",
    "- Using multiplicative when the series has negatives or zeros.\n",
    "- Missing/irregular frequencies → decomposition errors.\n"
   ]
  },
  {
   "cell_type": "markdown",
   "id": "b0646d77",
   "metadata": {},
   "source": [
    "## 3) Moving Averages — SMA vs EMA\n",
    "\n",
    "**What**\n",
    "- **SMA (Simple Moving Average)**: mean over a rolling window (e.g., 6 or 12 months).\n",
    "- **EMA (Exponential Moving Average)**: exponentially decaying weights favor **recent** values.\n",
    "\n",
    "**Why**\n",
    "- Smooth noise to reveal the level/trend.\n",
    "- EMA reduces SMA lag and reacts faster to recent changes.\n",
    "\n",
    "### 3.1 SMA — quick review\n"
   ]
  },
  {
   "cell_type": "code",
   "execution_count": null,
   "id": "26a075d5",
   "metadata": {},
   "outputs": [],
   "source": [
    "# Six- and twelve-month SMA on Passengers\n",
    "df = airline.copy()\n",
    "df['SMA_6']  = df['Passengers'].rolling(6).mean()\n",
    "df['SMA_12'] = df['Passengers'].rolling(12).mean()\n",
    "\n",
    "ax = df[['Passengers','SMA_6','SMA_12']].plot(figsize=(10,4), title='SMA(6) and SMA(12)')\n",
    "plt.tight_layout()"
   ]
  },
  {
   "cell_type": "markdown",
   "id": "d3fe5005",
   "metadata": {},
   "source": [
    "**SMA Pitfalls**\n",
    "- Short windows → noisy and still lagging.\n",
    "- Never reaches local peaks/valleys (averaging effect).\n",
    "- First `window-1` values are NaN (lag at start).\n",
    "\n",
    "### 3.2 EMA — concept & parameters\n",
    "\n",
    "**EMA recursion (adjust=False form)**  \n",
    "Let \\(\\alpha \\in (0,1] \\).  \n",
    "\\[ \\mathrm{EMA}_t = (1-\\alpha)\\,\\mathrm{EMA}_{t-1} + \\alpha\\,x_t \\]\n",
    "\n",
    "**Weights decay** geometrically: recent points get more weight.\n",
    "\n",
    "**Choosing \\(\\alpha\\)** (pandas helpers):\n",
    "- `span`  → \\( \\alpha = 2/(\\text{span}+1) \\)\n",
    "- `com`   → \\( \\alpha = 1/(1+\\text{com}) \\)\n",
    "- `halflife` → \\( \\alpha = 1 - e^{-\\ln(2)/\\text{halflife}} \\)\n",
    "- or pass `alpha` directly.\n",
    "\n",
    "`adjust=True` (default) uses a normalized finite-sample formulation;  \n",
    "`adjust=False` uses the recursive definition above.\n"
   ]
  },
  {
   "cell_type": "code",
   "execution_count": null,
   "id": "bd2b3a69",
   "metadata": {},
   "outputs": [],
   "source": [
    "# EMA with different parameterizations\n",
    "df = airline.copy()\n",
    "df['EMA_span12'] = df['Passengers'].ewm(span=12, adjust=False).mean()\n",
    "df['EMA_hl6']    = df['Passengers'].ewm(halflife=6, adjust=False).mean()\n",
    "df['EMA_com5']   = df['Passengers'].ewm(com=5, adjust=False).mean()\n",
    "\n",
    "ax = df[['Passengers','EMA_span12','EMA_hl6','EMA_com5']].plot(figsize=(10,4), title='EMA variants')\n",
    "plt.tight_layout()"
   ]
  },
  {
   "cell_type": "markdown",
   "id": "11758213",
   "metadata": {},
   "source": [
    "**Checks**\n",
    "- EMA curves start earlier (no hard window NaN block) and track peaks better than SMA.\n",
    "- Smaller `span` / `halflife` → more reactive (less smoothing).\n",
    "\n",
    "**Common pitfalls**\n",
    "- Using multiplicative models with zeros/negatives.\n",
    "- Comparing EMAs with wildly different parameter scales.\n"
   ]
  },
  {
   "cell_type": "markdown",
   "id": "c75b0d68",
   "metadata": {},
   "source": [
    "## 4) Practical: Choose Additive vs Multiplicative (Solved)\n",
    "\n",
    "**Task**  \n",
    "Decide whether the Airline series is better modeled with *additive* or *multiplicative* ETS.\n",
    "\n",
    "**Heuristic**  \n",
    "If seasonal amplitude grows with the level → multiplicative. Otherwise → additive.\n"
   ]
  },
  {
   "cell_type": "code",
   "execution_count": null,
   "id": "bf750b53",
   "metadata": {},
   "outputs": [],
   "source": [
    "# Heuristic: compare seasonal ranges normalized by level\n",
    "try:\n",
    "    from statsmodels.tsa.seasonal import seasonal_decompose\n",
    "    y = airline['Passengers']\n",
    "    add = seasonal_decompose(y, model='additive', period=12)\n",
    "    mul = seasonal_decompose(y, model='multiplicative', period=12)\n",
    "\n",
    "    # Measure seasonal amplitude (peak-to-trough)\n",
    "    add_seas_amp = (add.seasonal.max() - add.seasonal.min())\n",
    "    mul_seas_amp = (mul.seasonal.max() - mul.seasonal.min())\n",
    "\n",
    "    print(f\"Additive seasonal amplitude: {add_seas_amp:,.3f}\")\n",
    "    print(f\"Multiplicative seasonal amplitude (unitless, ~ratio): {mul_seas_amp:,.3f}\")\n",
    "\n",
    "    # Visual cue: overlay observed with detrended series\n",
    "    y_det_add = y - add.trend\n",
    "    y_det_mul = y / mul.trend\n",
    "    plt.figure(figsize=(10,4))\n",
    "    y_det_add.plot(label='Detrended (additive)')\n",
    "    y_det_mul.plot(label='Detrended (multiplicative)')\n",
    "    plt.title('Detrended Series (visualizing seasonal stability)')\n",
    "    plt.legend(); plt.tight_layout()\n",
    "except Exception as e:\n",
    "    print(\"Install statsmodels to run this comparison. Error:\", e)"
   ]
  },
  {
   "cell_type": "markdown",
   "id": "8eb5a80e",
   "metadata": {},
   "source": [
    "**Conclusion (typical for Airline Passengers)**  \n",
    "Seasonal swings tend to **grow** with the level → multiplicative is often more appropriate.\n",
    "Your synthetic data may behave similarly depending on the generator.\n"
   ]
  },
  {
   "cell_type": "markdown",
   "id": "d42a55c3",
   "metadata": {},
   "source": [
    "## 5) ARIMA — Concepts (AR, I, MA) & Stationarity\n",
    "\n",
    "**What**\n",
    "- **AR** (AutoRegressive, p): regress on *past values*.\n",
    "- **I** (Integrated, d): **differencing** to remove trend/seasonality → make series **stationary**.\n",
    "- **MA** (Moving Average, q): regress on *past forecast errors* (residuals).\n",
    "\n",
    "**Why stationarity?**\n",
    "ARIMA assumes constant **mean** and **variance** over time.  \n",
    "Non‑stationary series (trend, changing variance) violate this.\n",
    "\n",
    "**Visual cues of non‑stationarity**\n",
    "- Mean drifts upward/downward over time\n",
    "- Variance changes over time\n",
    "- Seasonal patterns present\n"
   ]
  },
  {
   "cell_type": "markdown",
   "id": "73f11563",
   "metadata": {},
   "source": [
    "### 5.1 Differencing\n",
    "\n",
    "**First difference (remove trend):**  \n",
    "\\[ y'_t = y_t - y_{t-1} \\]\n",
    "\n",
    "**Seasonal difference (period s, e.g., 12 months):**  \n",
    "\\[ y''_t = y_t - y_{t-s} \\]\n",
    "\n",
    "You can combine: first difference **and** seasonal difference.  \n",
    "Each differencing step loses rows at the start.\n"
   ]
  },
  {
   "cell_type": "code",
   "execution_count": null,
   "id": "fd3f5657",
   "metadata": {},
   "outputs": [],
   "source": [
    "y = airline['Passengers']\n",
    "\n",
    "# First difference\n",
    "diff1 = y.diff(1)\n",
    "\n",
    "# Seasonal difference (12)\n",
    "diff12 = y.diff(12)\n",
    "\n",
    "# Combined: first of seasonal (or vice versa)\n",
    "diff12_1 = diff12.diff(1)\n",
    "\n",
    "fig = plt.figure(figsize=(10,8))\n",
    "plt.subplot(3,1,1); y.plot(title='Original'); plt.tight_layout()\n",
    "plt.subplot(3,1,2); diff1.plot(title='First Difference (d=1)'); plt.tight_layout()\n",
    "plt.subplot(3,1,3); diff12_1.plot(title='Seasonal (12) then First Difference'); plt.tight_layout()"
   ]
  },
  {
   "cell_type": "markdown",
   "id": "f6583419",
   "metadata": {},
   "source": [
    "### 5.2 ADF Test (Augmented Dickey–Fuller)\n",
    "\n",
    "**What**  \n",
    "Statistical test for stationarity.  \n",
    "- **Null hypothesis**: series has a unit root (non‑stationary).  \n",
    "- **Stationary** if p‑value is **small** (commonly p < 0.05).\n",
    "\n",
    "**Note**: Interpretation depends on context; use plots + domain knowledge.\n"
   ]
  },
  {
   "cell_type": "code",
   "execution_count": null,
   "id": "770cc06c",
   "metadata": {},
   "outputs": [],
   "source": [
    "# Worked ADF test\n",
    "try:\n",
    "    from statsmodels.tsa.stattools import adfuller\n",
    "    def adf_report(series, name):\n",
    "        s = series.dropna()\n",
    "        res = adfuller(s, autolag='AIC')\n",
    "        stat, p, usedlag, nobs, crit, icbest = res\n",
    "        print(f\"ADF on {name}: stat={stat:,.3f}, p={p:,.4f}, lags={usedlag}, n={nobs}\")\n",
    "        print(\"Critical values:\")\n",
    "        for k,v in crit.items():\n",
    "            print(f\"  {k}: {v:,.3f}\")\n",
    "        print(\"Stationary? →\", \"YES\" if p < 0.05 else \"NO\", \"(p<0.05)\\n\")\n",
    "    adf_report(y, 'Original')\n",
    "    adf_report(diff1, 'First difference')\n",
    "    adf_report(diff12_1, 'Seasonal(12)+First difference')\n",
    "except Exception as e:\n",
    "    print(\"Install statsmodels to run the ADF test. Error:\", e)"
   ]
  },
  {
   "cell_type": "markdown",
   "id": "25eece4b",
   "metadata": {},
   "source": [
    "**Common pitfalls**\n",
    "- Over‑differencing → you inject extra noise and can harm model performance.\n",
    "- Seasonal differencing with wrong period (`period=12` for monthly yearly seasonality).\n",
    "- Using ARIMA directly on clearly non‑stationary data (skip differencing).\n"
   ]
  },
  {
   "cell_type": "markdown",
   "id": "23aa4208",
   "metadata": {},
   "source": [
    "## 6) Summary — When to use what\n",
    "\n",
    "- **Decomposition (ETS)**: understand structure (trend/seasonality/residual).\n",
    "  - Use **additive** if seasonal amplitude is roughly constant.\n",
    "  - Use **multiplicative** if seasonal amplitude grows with level.\n",
    "- **SMA vs EMA**:\n",
    "  - SMA is simple but laggy; EMA is more responsive (choose `span`, `com`, or `halflife`).\n",
    "- **ARIMA basics**:\n",
    "  - Make series **stationary** (first/seasonal differencing).\n",
    "  - Confirm with **ADF test**.\n",
    "  - Selecting (p, d, q) typically uses ACF/PACF (not covered in detail here).\n",
    "\n",
    "> Next steps you can add: ACF/PACF plots (`statsmodels.graphics.tsaplots`) and SARIMA with seasonal terms.\n"
   ]
  }
 ],
 "metadata": {
  "kernelspec": {
   "display_name": "Python 3 (ipykernel)",
   "language": "python",
   "name": "python3"
  },
  "language_info": {
   "codemirror_mode": {
    "name": "ipython",
    "version": 3
   },
   "file_extension": ".py",
   "mimetype": "text/x-python",
   "name": "python",
   "nbconvert_exporter": "python",
   "pygments_lexer": "ipython3",
   "version": "3.11.13"
  }
 },
 "nbformat": 4,
 "nbformat_minor": 5
}
