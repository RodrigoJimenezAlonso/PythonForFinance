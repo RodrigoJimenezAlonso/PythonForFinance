{
 "cells": [
  {
   "cell_type": "markdown",
   "id": "21b061f0",
   "metadata": {},
   "source": [
    "# Pandas DataFrames — Basics, Indexing & MultiIndex (with solutions)\n",
    "\n",
    "Run top-to-bottom. Uses only numpy/pandas. Exercises are solved inline.\n"
   ]
  },
  {
   "cell_type": "code",
   "execution_count": null,
   "id": "796c0c84",
   "metadata": {},
   "outputs": [],
   "source": [
    "\n",
    "import numpy as np, pandas as pd\n",
    "np.random.seed(101)\n",
    "\n",
    "# Build a reproducible DataFrame\n",
    "df = pd.DataFrame(\n",
    "    np.random.randn(5,4),\n",
    "    index=list(\"ABCDE\"),\n",
    "    columns=list(\"WXYZ\")\n",
    ")\n",
    "df\n"
   ]
  },
  {
   "cell_type": "markdown",
   "id": "2e4a8cf2",
   "metadata": {},
   "source": [
    "## Selecting columns (Series vs DataFrame)"
   ]
  },
  {
   "cell_type": "code",
   "execution_count": null,
   "id": "4cec668a",
   "metadata": {},
   "outputs": [],
   "source": [
    "\n",
    "# Single column -> Series\n",
    "w = df[\"W\"]\n",
    "type(w), w.head()\n"
   ]
  },
  {
   "cell_type": "code",
   "execution_count": null,
   "id": "f832466d",
   "metadata": {},
   "outputs": [],
   "source": [
    "\n",
    "# Multiple columns -> DataFrame\n",
    "df[[\"W\",\"Z\"]].head()\n"
   ]
  },
  {
   "cell_type": "markdown",
   "id": "38715c78",
   "metadata": {},
   "source": [
    "## Create / drop columns (axis=1)"
   ]
  },
  {
   "cell_type": "code",
   "execution_count": null,
   "id": "11785092",
   "metadata": {},
   "outputs": [],
   "source": [
    "\n",
    "# Create\n",
    "df[\"NEW\"] = df[\"W\"] + df[\"Y\"]\n",
    "df.head()\n"
   ]
  },
  {
   "cell_type": "code",
   "execution_count": null,
   "id": "654620bb",
   "metadata": {},
   "outputs": [],
   "source": [
    "\n",
    "# Drop (not in-place)\n",
    "tmp = df.drop(\"NEW\", axis=1)\n",
    "tmp.columns, \"NEW\" in tmp.columns\n"
   ]
  },
  {
   "cell_type": "code",
   "execution_count": null,
   "id": "72e88567",
   "metadata": {},
   "outputs": [],
   "source": [
    "\n",
    "# Drop in-place\n",
    "df.drop(\"NEW\", axis=1, inplace=True)\n",
    "df.columns\n"
   ]
  },
  {
   "cell_type": "markdown",
   "id": "1160602d",
   "metadata": {},
   "source": [
    "## Shape & axis semantics (rows=axis 0, cols=axis 1)"
   ]
  },
  {
   "cell_type": "code",
   "execution_count": null,
   "id": "7aa65e4a",
   "metadata": {},
   "outputs": [],
   "source": [
    "df.shape, {'rows': df.shape[0], 'cols': df.shape[1]}"
   ]
  },
  {
   "cell_type": "markdown",
   "id": "22a630f8",
   "metadata": {},
   "source": [
    "## Row selection with .loc (labels) and .iloc (integer positions)"
   ]
  },
  {
   "cell_type": "code",
   "execution_count": null,
   "id": "49432fc6",
   "metadata": {},
   "outputs": [],
   "source": [
    "\n",
    "row_A_loc = df.loc[\"A\"]\n",
    "row_2_iloc = df.iloc[2]  # C row\n",
    "row_A_loc, row_2_iloc\n"
   ]
  },
  {
   "cell_type": "markdown",
   "id": "76391621",
   "metadata": {},
   "source": [
    "## Subsets with .loc[[rows], [cols]]"
   ]
  },
  {
   "cell_type": "code",
   "execution_count": null,
   "id": "dd6a2310",
   "metadata": {},
   "outputs": [],
   "source": [
    "\n",
    "df.loc[[\"A\",\"B\"], [\"W\",\"Y\"]]\n"
   ]
  },
  {
   "cell_type": "markdown",
   "id": "b6debaab",
   "metadata": {},
   "source": [
    "## Conditional selection & multiple conditions"
   ]
  },
  {
   "cell_type": "code",
   "execution_count": null,
   "id": "48e171cc",
   "metadata": {},
   "outputs": [],
   "source": [
    "\n",
    "# Boolean filter on a column\n",
    "mask = df[\"W\"] > 0\n",
    "df[mask]\n"
   ]
  },
  {
   "cell_type": "code",
   "execution_count": null,
   "id": "01378257",
   "metadata": {},
   "outputs": [],
   "source": [
    "\n",
    "# Combine: (W>0) & (Y>0.5)\n",
    "df[(df[\"W\"]>0) & (df[\"Y\"]>0.5)]\n"
   ]
  },
  {
   "cell_type": "markdown",
   "id": "b7d5ce62",
   "metadata": {},
   "source": [
    "## Reset / set index"
   ]
  },
  {
   "cell_type": "code",
   "execution_count": null,
   "id": "2ee554f5",
   "metadata": {},
   "outputs": [],
   "source": [
    "\n",
    "df_reset = df.reset_index()\n",
    "df_reset.head()\n"
   ]
  },
  {
   "cell_type": "code",
   "execution_count": null,
   "id": "90cf39c1",
   "metadata": {},
   "outputs": [],
   "source": [
    "\n",
    "# Set custom index\n",
    "states = \"CA NY WY OR CO\".split()\n",
    "df_idx = df.copy()\n",
    "df_idx[\"STATE\"] = states\n",
    "df_idx.set_index(\"STATE\", inplace=True)\n",
    "df_idx.head()\n"
   ]
  },
  {
   "cell_type": "markdown",
   "id": "c7ab0ac5",
   "metadata": {},
   "source": [
    "## MultiIndex (index hierarchy) & cross-section"
   ]
  },
  {
   "cell_type": "code",
   "execution_count": null,
   "id": "f6c705c2",
   "metadata": {},
   "outputs": [],
   "source": [
    "\n",
    "outside = [\"G1\"]*3 + [\"G2\"]*3\n",
    "inside = [1,2,3,1,2,3]\n",
    "hier_index = pd.MultiIndex.from_tuples(list(zip(outside, inside)), names=[\"GROUP\",\"NUM\"])\n",
    "dfm = pd.DataFrame(np.round(np.random.randn(6,2),3), index=hier_index, columns=list(\"AB\"))\n",
    "dfm\n"
   ]
  },
  {
   "cell_type": "code",
   "execution_count": null,
   "id": "3fc0d3e3",
   "metadata": {},
   "outputs": [],
   "source": [
    "\n",
    "# Index from outside in\n",
    "val = dfm.loc[\"G2\"].loc[2][\"B\"]\n",
    "val\n"
   ]
  },
  {
   "cell_type": "code",
   "execution_count": null,
   "id": "7ea996ec",
   "metadata": {},
   "outputs": [],
   "source": [
    "\n",
    "# Cross-section: select NUM==1 across all groups\n",
    "dfm.xs(key=1, level=\"NUM\")\n"
   ]
  },
  {
   "cell_type": "markdown",
   "id": "bb86390a",
   "metadata": {},
   "source": [
    "## Exercises (solved)"
   ]
  },
  {
   "cell_type": "code",
   "execution_count": null,
   "id": "ecc15c49",
   "metadata": {},
   "outputs": [],
   "source": [
    "\n",
    "# E1: Select columns W and Z for rows A..C\n",
    "sol_E1 = df.loc[[\"A\",\"B\",\"C\"], [\"W\",\"Z\"]]\n",
    "sol_E1\n"
   ]
  },
  {
   "cell_type": "code",
   "execution_count": null,
   "id": "f6dc0110",
   "metadata": {},
   "outputs": [],
   "source": [
    "\n",
    "# E2: Add column SUM = X+Y, then drop it in place\n",
    "df2 = df.copy()\n",
    "df2[\"SUM\"] = df2[\"X\"] + df2[\"Y\"]\n",
    "df2.drop(\"SUM\", axis=1, inplace=True)\n",
    "df2.equals(df)  # True means back to original\n"
   ]
  },
  {
   "cell_type": "code",
   "execution_count": null,
   "id": "c7d5f0e0",
   "metadata": {},
   "outputs": [],
   "source": [
    "\n",
    "# E3: Filter rows where (Z<0) OR (W>0.5)\n",
    "sol_E3 = df[(df[\"Z\"]<0) | (df[\"W\"]>0.5)]\n",
    "sol_E3\n"
   ]
  }
 ],
 "metadata": {},
 "nbformat": 4,
 "nbformat_minor": 5
}
