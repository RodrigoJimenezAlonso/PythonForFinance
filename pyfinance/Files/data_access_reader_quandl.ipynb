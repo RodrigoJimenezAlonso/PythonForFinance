{
 "cells": [
  {
   "cell_type": "markdown",
   "id": "fbb72270",
   "metadata": {},
   "source": [
    "# Data Access: pandas-datareader & Quandl (examples & notes)\n",
    "\n",
    "> These cells require internet access. If offline, they serve as reference.\n"
   ]
  },
  {
   "cell_type": "code",
   "execution_count": null,
   "id": "350c92e8",
   "metadata": {},
   "outputs": [],
   "source": [
    "\n",
    "# !pip install pandas-datareader quandl --quiet\n",
    "import pandas as pd\n",
    "print(\"This notebook shows example code. Uncomment pip installs if needed.\")\n"
   ]
  },
  {
   "cell_type": "markdown",
   "id": "b15c3491",
   "metadata": {},
   "source": [
    "## pandas-datareader (example)"
   ]
  },
  {
   "cell_type": "code",
   "execution_count": null,
   "id": "61b28e1f",
   "metadata": {},
   "outputs": [],
   "source": [
    "\n",
    "# from pandas_datareader import data as web\n",
    "# import datetime as dt\n",
    "# start, end = dt.datetime(2015,1,1), dt.datetime(2017,1,1)\n",
    "# fb = web.DataReader(\"FB\", \"stooq\", start, end)  # 'stooq' often works without API keys\n",
    "# fb.head()\n"
   ]
  },
  {
   "cell_type": "markdown",
   "id": "001d0f0b",
   "metadata": {},
   "source": [
    "## Quandl (example)"
   ]
  },
  {
   "cell_type": "code",
   "execution_count": null,
   "id": "a3296203",
   "metadata": {},
   "outputs": [],
   "source": [
    "\n",
    "# import quandl\n",
    "# # quandl.ApiConfig.api_key = \"YOUR_KEY\"  # optional if ≤50 calls/day\n",
    "# wti = quandl.get(\"EIA/PET_RWTC_D\")  # WTI crude price\n",
    "# wti.head()\n"
   ]
  }
 ],
 "metadata": {},
 "nbformat": 4,
 "nbformat_minor": 5
}
