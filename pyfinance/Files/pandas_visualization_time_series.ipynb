{
 "cells": [
  {
   "cell_type": "markdown",
   "id": "0d624142",
   "metadata": {},
   "source": [
    "# Pandas Visualization & Time Series Formatting (with solutions)"
   ]
  },
  {
   "cell_type": "code",
   "execution_count": null,
   "id": "ac91c9ec",
   "metadata": {},
   "outputs": [],
   "source": [
    "\n",
    "import numpy as np, pandas as pd\n",
    "import matplotlib.pyplot as plt\n",
    "\n",
    "# %matplotlib inline  # Uncomment if needed\n",
    "rng = np.random.default_rng(42)\n",
    "df1 = pd.DataFrame(rng.normal(size=(100,4)), columns=list(\"ABCD\"))\n",
    "df2 = pd.DataFrame(rng.normal(size=(10,4)), columns=list(\"ABCD\"))\n",
    "df1.head()\n"
   ]
  },
  {
   "cell_type": "markdown",
   "id": "a44e5f2c",
   "metadata": {},
   "source": [
    "## Hist / Box / KDE / Area / Scatter / Hexbin"
   ]
  },
  {
   "cell_type": "code",
   "execution_count": null,
   "id": "9a24b0d8",
   "metadata": {},
   "outputs": [],
   "source": [
    "\n",
    "df1[\"A\"].plot.hist(bins=30, alpha=0.7, figsize=(6,3)); plt.show()\n",
    "df1[[\"A\",\"B\"]].plot.box(figsize=(6,3)); plt.show()\n",
    "df1[\"C\"].plot.kde(figsize=(6,3), linewidth=2, linestyle=\"--\"); plt.show()\n",
    "df2.plot.area(alpha=0.4, figsize=(6,3)); plt.show()\n",
    "df1.plot.scatter(x=\"A\", y=\"B\", c=\"C\", cmap=\"coolwarm\", figsize=(6,3)); plt.show()\n"
   ]
  },
  {
   "cell_type": "code",
   "execution_count": null,
   "id": "625ad434",
   "metadata": {},
   "outputs": [],
   "source": [
    "\n",
    "# Hexbin (bivariate density)\n",
    "df_hex = pd.DataFrame(rng.normal(size=(1000,2)), columns=[\"X\",\"Y\"])\n",
    "df_hex.plot.hexbin(x=\"X\", y=\"Y\", gridsize=25, cmap=\"viridis\", figsize=(5,4));\n"
   ]
  },
  {
   "cell_type": "markdown",
   "id": "5cb01139",
   "metadata": {},
   "source": [
    "## Time series plotting + custom ticks"
   ]
  },
  {
   "cell_type": "code",
   "execution_count": null,
   "id": "c8b51170",
   "metadata": {},
   "outputs": [],
   "source": [
    "\n",
    "# Fake daily series\n",
    "dates = pd.date_range(\"2007-01-01\", \"2007-05-15\", freq=\"B\")\n",
    "ts = pd.Series(np.cumsum(rng.normal(scale=1,size=len(dates)))+30, index=dates, name=\"Adj Close\")\n",
    "ax = ts.plot(figsize=(8,3))\n",
    "ax.set_xlim((\"2007-01-01\",\"2007-05-01\")); ax.set_ylim((20,50))\n",
    "ax.set_title(\"Time Series with limits\")\n",
    "plt.show()\n"
   ]
  },
  {
   "cell_type": "code",
   "execution_count": null,
   "id": "0a41ecde",
   "metadata": {},
   "outputs": [],
   "source": [
    "\n",
    "# Custom major/minor ticks using matplotlib.dates\n",
    "import matplotlib.dates as mdates\n",
    "fig, ax = plt.subplots(figsize=(8,3))\n",
    "ax.plot(ts.index, ts.values, \"-\")\n",
    "ax.xaxis.set_major_locator(mdates.MonthLocator())\n",
    "ax.xaxis.set_major_formatter(mdates.DateFormatter(\"%b-%Y\"))\n",
    "ax.xaxis.set_minor_locator(mdates.WeekdayLocator(byweekday=mdates.MO))\n",
    "ax.xaxis.set_minor_formatter(mdates.DateFormatter(\"%d\"))\n",
    "fig.autofmt_xdate()\n",
    "plt.show()\n"
   ]
  },
  {
   "cell_type": "markdown",
   "id": "4e2473e8",
   "metadata": {},
   "source": [
    "## Interactive (Jupyter)"
   ]
  },
  {
   "cell_type": "code",
   "execution_count": null,
   "id": "8745e72b",
   "metadata": {},
   "outputs": [],
   "source": [
    "\n",
    "# In classic notebooks you can switch:\n",
    "# %matplotlib notebook\n",
    "# ts.plot(figsize=(8,3));\n",
    "# Use the toolbar to pan/zoom. Reset with the 'home' button.\n"
   ]
  },
  {
   "cell_type": "markdown",
   "id": "74c60f25",
   "metadata": {},
   "source": [
    "## Exercises (solved)"
   ]
  },
  {
   "cell_type": "code",
   "execution_count": null,
   "id": "8c1f37e0",
   "metadata": {},
   "outputs": [],
   "source": [
    "\n",
    "# E1: Scatter A vs B sized by |D|*50\n",
    "df1.plot.scatter(x=\"A\", y=\"B\", s=(df1[\"D\"].abs()*50).clip(5,200), alpha=0.6, figsize=(6,3));\n"
   ]
  },
  {
   "cell_type": "code",
   "execution_count": null,
   "id": "68b60f1e",
   "metadata": {},
   "outputs": [],
   "source": [
    "\n",
    "# E2: KDE of column A with thicker dashed line and legend\n",
    "ax = df1[\"A\"].plot.kde(linewidth=3, linestyle=\"--\", label=\"A KDE\", figsize=(6,3))\n",
    "ax.legend(loc=0)\n"
   ]
  }
 ],
 "metadata": {},
 "nbformat": 4,
 "nbformat_minor": 5
}
