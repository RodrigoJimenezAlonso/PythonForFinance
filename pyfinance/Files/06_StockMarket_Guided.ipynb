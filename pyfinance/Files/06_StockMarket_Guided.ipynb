{
 "cells": [
  {
   "cell_type": "markdown",
   "id": "764b5a01",
   "metadata": {},
   "source": [
    "# Apuntes Autoguiados — Stock Market Analysis con Python\n",
    "\n",
    "**Propósito:** aprender (y re-aprender) *sin contexto externo* cómo analizar acciones con Python.  \n",
    "**Fecha:** 2025-09-22 (UTC)\n",
    "\n",
    "## Cómo usar estos apuntes\n",
    "- Cada módulo sigue este patrón: **Qué aprenderás → Por qué importa → Pasos guiados → Tu turno (TODO) → Solución → Comprobación → Errores comunes → Checklist de memoria**.\n",
    "- El cuaderno es **autocontenido**: incluye generador de datos sintéticos si no tienes internet/CSV.\n",
    "- Ejecuta las celdas en orden. Intenta resolver los **TODO** antes de mirar la solución.\n",
    "- Guarda tus notas: añade comentarios `# tu nota:` en las celdas.\n"
   ]
  },
  {
   "cell_type": "markdown",
   "id": "d7d4c375",
   "metadata": {},
   "source": [
    "---\n",
    "## Requisitos mínimos\n",
    "- Python 3.x, `pandas`, `numpy`, `matplotlib`. (Opcional: `mplfinance`, `statsmodels`).\n",
    "\n",
    "### Estructura de datos esperada\n",
    "DataFrames por *ticker* con columnas: `Open, High, Low, Close, Volume` e índice `DatetimeIndex`.\n",
    "\n",
    "> Si no tienes CSV ni conexión, usa el **generador sintético** incluido.\n"
   ]
  },
  {
   "cell_type": "markdown",
   "id": "8b785001",
   "metadata": {},
   "source": [
    "## 0) Setup"
   ]
  },
  {
   "cell_type": "code",
   "execution_count": null,
   "id": "514fc080",
   "metadata": {},
   "outputs": [],
   "source": [
    "import numpy as np\n",
    "import pandas as pd\n",
    "import matplotlib.pyplot as plt\n",
    "\n",
    "# %matplotlib inline  # Descomenta si usas Jupyter clásico\n",
    "pd.set_option(\"display.float_format\", lambda x: f\"{x:,.6f}\")\n",
    "print(\"OK: entorno listo. pandas\", pd.__version__)"
   ]
  },
  {
   "cell_type": "markdown",
   "id": "b1f17f1f",
   "metadata": {},
   "source": [
    "## 1) Datos — Cargar o Generar (Autocontenido)\n",
    "\n",
    "### Qué aprenderás\n",
    "- Crear un DataFrame financiero estándar (OHLCV).\n",
    "- Cargar desde CSV *o* generar datos **sintéticos**.\n",
    "- Asegurar un rango temporal consistente.\n",
    "\n",
    "### Por qué importa\n",
    "Tener datos limpios y coherentes evita errores río abajo (gráficos engañosos, retornos mal calculados).\n",
    "\n",
    "### Pasos guiados\n",
    "1. Intenta `load_csv(\"TSLA.csv\")` etc.\n",
    "2. Si falla, usa `make_synthetic(\"TSLA\")`.\n",
    "3. Recorta al rango de interés.\n"
   ]
  },
  {
   "cell_type": "code",
   "execution_count": null,
   "id": "f17b314f",
   "metadata": {},
   "outputs": [],
   "source": [
    "from pathlib import Path\n",
    "\n",
    "\n",
    "def load_csv(fname: str):\n",
    "    \"\"\"Carga un CSV con columnas: Date, Open, High, Low, Close, Volume\"\"\"\n",
    "    p = Path(fname)\n",
    "    if not p.exists():\n",
    "        return None\n",
    "    df = pd.read_csv(p, parse_dates=[\"Date\"]).set_index(\"Date\").sort_index()\n",
    "    df = df.rename(columns={c: c.strip().title() for c in df.columns})\n",
    "    return df[[\"Open\",\"High\",\"Low\",\"Close\",\"Volume\"]]\n",
    "\n",
    "\n",
    "def make_synthetic(ticker: str, start=\"2012-01-01\", end=\"2017-01-01\", seed=0):\n",
    "    \"\"\"Genera OHLCV realista para practicar sin datos reales.\"\"\"\n",
    "    rng = np.random.default_rng(abs(hash(ticker)) % (2**32) + seed)\n",
    "    idx = pd.date_range(start, end, freq=\"B\")\n",
    "    n = len(idx)\n",
    "    drift = {\"TSLA\": 0.0008, \"GM\": 0.0002, \"F\": 0.00015}.get(ticker, 0.0003)\n",
    "    vol   = {\"TSLA\": 0.0300, \"GM\": 0.0150, \"F\": 0.0120}.get(ticker, 0.0200)\n",
    "    log_ret = rng.normal(drift, vol, size=n)\n",
    "    base = 20 * np.exp(np.cumsum(log_ret))\n",
    "    open_ = base\n",
    "    high = open_ * (1 + rng.normal(0.001, 0.01, size=n).clip(-0.02, 0.05))\n",
    "    low  = open_ * (1 - rng.normal(0.001, 0.01, size=n).clip(-0.05, 0.02))\n",
    "    close= open_ * (1 + rng.normal(0, 0.01, size=n))\n",
    "    volume = rng.integers(1e6, 5e6, size=n)\n",
    "    df = pd.DataFrame({'Open':open_, 'High':high, 'Low':low, 'Close':close, 'Volume':volume}, index=idx)\n",
    "    df.index.name = \"Date\"\n",
    "    return df\n",
    "\n",
    "\n",
    "def get_ticker(ticker: str, csv_name: str, start=\"2012-01-01\", end=\"2017-01-01\"):\n",
    "    df = load_csv(csv_name)\n",
    "    if df is None or df.empty:\n",
    "        print(f\"[{ticker}] CSV no encontrado → usando datos sintéticos.\")\n",
    "        df = make_synthetic(ticker, start, end)\n",
    "    return df.loc[start:end]\n",
    "\n",
    "TSLA = get_ticker(\"TSLA\", \"TSLA.csv\")\n",
    "GM   = get_ticker(\"GM\",   \"GM.csv\")\n",
    "F    = get_ticker(\"F\",    \"F.csv\")\n",
    "\n",
    "TSLA.head(3)"
   ]
  },
  {
   "cell_type": "markdown",
   "id": "b7b5e98a",
   "metadata": {},
   "source": [
    "## 2) Visualización base (Open, Volume, TotalTraded)\n",
    "\n",
    "### Qué aprenderás\n",
    "- Graficar series comparables y no comparables.\n",
    "- Detectar spikes de volumen.\n",
    "- Entender por qué *precio* ≠ *capitalización*.\n",
    "\n",
    "### Tu turno (TODO)\n",
    "Completa la función `plot_open_three` y `plot_volume_three`.\n"
   ]
  },
  {
   "cell_type": "code",
   "execution_count": null,
   "id": "15d269a5",
   "metadata": {},
   "outputs": [],
   "source": [
    "# TODO: implementa las dos funciones. Ejecuta luego la celda de prueba.\n",
    "\n",
    "def plot_open_three(tsla, gm, ford):\n",
    "    plt.figure(figsize=(14,6))\n",
    "    tsla['Open'].plot(label='TSLA')\n",
    "    gm['Open'].plot(label='GM')\n",
    "    ford['Open'].plot(label='F')\n",
    "    plt.title('Precio de Apertura')\n",
    "    plt.legend(); plt.tight_layout()\n",
    "\n",
    "\n",
    "def plot_volume_three(tsla, gm, ford):\n",
    "    plt.figure(figsize=(14,6))\n",
    "    tsla['Volume'].plot(label='TSLA')\n",
    "    gm['Volume'].plot(label='GM')\n",
    "    ford['Volume'].plot(label='F')\n",
    "    plt.title('Volumen Diario')\n",
    "    plt.legend(); plt.tight_layout()"
   ]
  },
  {
   "cell_type": "code",
   "execution_count": null,
   "id": "ca5ac302",
   "metadata": {},
   "outputs": [],
   "source": [
    "plot_open_three(TSLA, GM, F)\n",
    "plot_volume_three(TSLA, GM, F)"
   ]
  },
  {
   "cell_type": "markdown",
   "id": "5fbc4955",
   "metadata": {},
   "source": [
    "### Solución explicada\n",
    "- **Open** permite comparar niveles de precio, pero ignora cuántas acciones existen.  \n",
    "- **Volume** ayuda a localizar días con eventos/noticias.\n",
    "\n",
    "**TotalTraded** (aprox. dinero movido): `Open × Volume` (no es market cap)."
   ]
  },
  {
   "cell_type": "code",
   "execution_count": null,
   "id": "461aba0b",
   "metadata": {},
   "outputs": [],
   "source": [
    "for df in (TSLA, GM, F):\n",
    "    df['TotalTraded'] = df['Open'] * df['Volume']\n",
    "\n",
    "plt.figure(figsize=(14,6))\n",
    "TSLA['TotalTraded'].plot(label='TSLA')\n",
    "GM['TotalTraded'].plot(label='GM')\n",
    "F['TotalTraded'].plot(label='F')\n",
    "plt.title('TotalTraded ≈ Open × Volume'); plt.legend(); plt.tight_layout()"
   ]
  },
  {
   "cell_type": "markdown",
   "id": "796fe1a3",
   "metadata": {},
   "source": [
    "## 3) Medias móviles (MA) y estructura\n",
    "\n",
    "### Qué aprenderás\n",
    "- Calcular MA(50) y MA(200) en `Open`.\n",
    "- Razón: suavizar ruido para ver tendencia/estructura.\n",
    "\n",
    "### Tu turno (TODO)\n",
    "Implementa `add_ma(df, windows)` que agregue columnas `MA_{w}`.\n"
   ]
  },
  {
   "cell_type": "code",
   "execution_count": null,
   "id": "53729454",
   "metadata": {},
   "outputs": [],
   "source": [
    "def add_ma(df: pd.DataFrame, windows=(50, 200)):\n",
    "    for w in windows:\n",
    "        df[f'MA_{w}'] = df['Open'].rolling(w).mean()\n",
    "    return df\n",
    "\n",
    "GM = add_ma(GM, windows=(50,200))\n",
    "GM[['Open','MA_50','MA_200']].plot(figsize=(14,6), title='GM – Open & MAs'); plt.tight_layout()"
   ]
  },
  {
   "cell_type": "markdown",
   "id": "b4c67058",
   "metadata": {},
   "source": [
    "## 4) Retornos diarios y volatilidad\n",
    "\n",
    "### Qué aprenderás\n",
    "- Retorno: $ r_t = \\frac{P_t}{P_{t-1}} - 1 $ (usaremos `Close`).\n",
    "- `pct_change()` de pandas.\n",
    "- Medir volatilidad con histogramas/KDE/boxplots.\n",
    "\n",
    "### Tu turno (TODO)\n",
    "Implementa `add_returns(df)` → añade columna `Return`.\n"
   ]
  },
  {
   "cell_type": "code",
   "execution_count": null,
   "id": "166e4bd5",
   "metadata": {},
   "outputs": [],
   "source": [
    "def add_returns(df: pd.DataFrame, price_col='Close'):\n",
    "    df['Return'] = df[price_col].pct_change()\n",
    "    return df\n",
    "\n",
    "TSLA = add_returns(TSLA)\n",
    "GM   = add_returns(GM)\n",
    "F    = add_returns(F)\n",
    "\n",
    "plt.figure(figsize=(12,6))\n",
    "for name, d in [('TSLA', TSLA), ('GM', GM), ('F', F)]:\n",
    "    d['Return'].hist(bins=100, alpha=0.5, label=name)\n",
    "plt.title('Distribución de Retornos Diarios (Close)'); plt.legend(); plt.tight_layout()"
   ]
  },
  {
   "cell_type": "code",
   "execution_count": null,
   "id": "9384a9a5",
   "metadata": {},
   "outputs": [],
   "source": [
    "plt.figure(figsize=(12,6))\n",
    "TSLA['Return'].plot(kind='kde', label='TSLA')\n",
    "GM['Return'].plot(kind='kde', label='GM')\n",
    "F['Return'].plot(kind='kde', label='F')\n",
    "plt.title('KDE Retornos Diarios'); plt.legend(); plt.tight_layout()\n",
    "\n",
    "box_df = pd.concat([\n",
    "    TSLA['Return'].rename('TSLA'),\n",
    "    GM['Return'].rename('GM'),\n",
    "    F['Return'].rename('F')\n",
    "], axis=1)\n",
    "\n",
    "box_df.plot(kind='box', figsize=(10,6), title='Boxplot de Retornos'); plt.tight_layout()"
   ]
  },
  {
   "cell_type": "markdown",
   "id": "10bc5751",
   "metadata": {},
   "source": [
    "## 5) Correlaciones de retornos\n",
    "\n",
    "### Qué aprenderás\n",
    "- Visualizar relaciones lineales entre retornos.\n",
    "- Distinguir pares correlacionados vs. independientes.\n",
    "\n",
    "### Tu turno (TODO)\n",
    "Crea un *scatter* de `Return` de F (X) vs GM (Y).\n"
   ]
  },
  {
   "cell_type": "code",
   "execution_count": null,
   "id": "11883362",
   "metadata": {},
   "outputs": [],
   "source": [
    "ax = box_df.plot(kind='scatter', x='F', y='GM', figsize=(7,7), alpha=0.4, title='F vs GM (Retornos)')"
   ]
  },
  {
   "cell_type": "markdown",
   "id": "5fce54b1",
   "metadata": {},
   "source": [
    "## 6) Cumulative Daily Returns (CDR)\n",
    "\n",
    "### Qué aprenderás\n",
    "- Evolución de $1 invertido:  $ $ \\text{CDR}_t = \\prod_{i=1}^{t} (1 + r_i) $. \n",
    "- Interpretar curvas de crecimiento acumulado.\n",
    "\n",
    "### Tu turno (TODO)\n",
    "Implementa `add_cdr(df)` que añada `CDR`.\n"
   ]
  },
  {
   "cell_type": "code",
   "execution_count": null,
   "id": "f9483b5b",
   "metadata": {},
   "outputs": [],
   "source": [
    "def add_cdr(df: pd.DataFrame, ret_col='Return'):\n",
    "    df['CDR'] = (1 + df[ret_col]).cumprod()\n",
    "    return df\n",
    "\n",
    "TSLA = add_cdr(TSLA); GM = add_cdr(GM); F = add_cdr(F)\n",
    "\n",
    "plt.figure(figsize=(14,6))\n",
    "TSLA['CDR'].plot(label='TSLA')\n",
    "GM['CDR'].plot(label='GM')\n",
    "F['CDR'].plot(label='F')\n",
    "plt.title('Cumulative Daily Returns (Base = 1 en primera fecha)')\n",
    "plt.legend(); plt.tight_layout()"
   ]
  },
  {
   "cell_type": "code",
   "execution_count": null,
   "id": "18bff318",
   "metadata": {},
   "outputs": [],
   "source": [
    "cdr_end = pd.Series({\n",
    "    'TSLA': TSLA['CDR'].dropna().iloc[-1],\n",
    "    'GM':   GM['CDR'].dropna().iloc[-1],\n",
    "    'F':    F['CDR'].dropna().iloc[-1],\n",
    "}).sort_values(ascending=False)\n",
    "print(\"CDR final (mayor→menor):\\n\", cdr_end.to_frame('CDR_final'))"
   ]
  },
  {
   "cell_type": "markdown",
   "id": "95b1eb8d",
   "metadata": {},
   "source": [
    "## 7) Bonus (Opcional)\n",
    "\n",
    "### 7.1 Candlesticks (requiere `mplfinance`)"
   ]
  },
  {
   "cell_type": "code",
   "execution_count": null,
   "id": "a175061c",
   "metadata": {},
   "outputs": [],
   "source": [
    "try:\n",
    "    import mplfinance as mpf\n",
    "    F_2012_01 = F.loc['2012-01-01':'2012-01-31'][['Open','High','Low','Close','Volume']]\n",
    "    mpf.plot(F_2012_01, type='candle', mav=(5,10), volume=True, title='F – Enero 2012')\n",
    "except Exception as e:\n",
    "    print(\"Candlestick omitido (instala 'mplfinance'). Error:\", e)"
   ]
  },
  {
   "cell_type": "markdown",
   "id": "92da0f0e",
   "metadata": {},
   "source": [
    "### 7.2 Conceptos de Series Temporales\n",
    "- **Trend** (tendencia), **Seasonality** (estacionalidad), **Cyclic** (cíclico).\n",
    "\n",
    "#### Demo: Filtro de Hodrick–Prescott (si tienes `statsmodels`)"
   ]
  },
  {
   "cell_type": "code",
   "execution_count": null,
   "id": "4b9b7545",
   "metadata": {},
   "outputs": [],
   "source": [
    "try:\n",
    "    import statsmodels.api as sm\n",
    "    cycle, trend = sm.tsa.filters.hpfilter(GM['Open'].dropna(), lamb=1600)\n",
    "    trend.name = 'Trend_HP'\n",
    "    pd.concat([GM['Open'], trend], axis=1).plot(figsize=(12,5), title='GM.Open + Tendencia (HP Filter)')\n",
    "    plt.tight_layout()\n",
    "except Exception as e:\n",
    "    print(\"HP Filter omitido (instala 'statsmodels'). Error:\", e)"
   ]
  },
  {
   "cell_type": "markdown",
   "id": "312d9265",
   "metadata": {},
   "source": [
    "## 8) Glosario esencial\n",
    "- **OHLCV:** Open, High, Low, Close, Volume.\n",
    "- **MA(w):** Media móvil de ventana `w` días.\n",
    "- **Retorno diario:** Cambio porcentual día a día (proporción).\n",
    "- **Volatilidad:** Dispersión de retornos; histograma más ancho = más riesgo.\n",
    "- **CDR:** Crecimiento de una inversión acumulando retornos.\n",
    "- **Correlación:** Relación lineal entre variables (∈ [-1,1]).\n",
    "- **HP Filter:** Método para separar tendencia y ciclo.\n",
    "\n",
    "## 9) Checklist final (¿puedo hacerlo sin mirar?)\n",
    "- [ ] Cargar o generar datos OHLCV limpios.\n",
    "- [ ] Graficar `Open`, `Volume` y **TotalTraded**.\n",
    "- [ ] Calcular MA(50)/MA(200) y explicar su diferencia.\n",
    "- [ ] Calcular `Return`, interpretar histogramas/KDE/boxplots.\n",
    "- [ ] Medir correlaciones y leer un *scatter*.\n",
    "- [ ] Construir y explicar `CDR`.\n",
    "- [ ] (Opcional) Hacer un candlestick de un subperiodo.\n"
   ]
  }
 ],
 "metadata": {
  "kernelspec": {
   "display_name": "Python 3 (ipykernel)",
   "language": "python",
   "name": "python3"
  },
  "language_info": {
   "codemirror_mode": {
    "name": "ipython",
    "version": 3
   },
   "file_extension": ".py",
   "mimetype": "text/x-python",
   "name": "python",
   "nbconvert_exporter": "python",
   "pygments_lexer": "ipython3",
   "version": "3.11.13"
  }
 },
 "nbformat": 4,
 "nbformat_minor": 5
}
