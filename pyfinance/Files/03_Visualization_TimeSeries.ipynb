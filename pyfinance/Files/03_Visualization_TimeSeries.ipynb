{
 "cells": [
  {
   "cell_type": "markdown",
   "id": "701fff57",
   "metadata": {},
   "source": [
    "\n",
    "# Visualization & Time Series (Matplotlib + Pandas)\n",
    "\n",
    "What you'll learn and practice:\n",
    "- Matplotlib basics: `plt.figure`, OO API (`fig`, `ax`), subplots, sizes, DPI, savefig\n",
    "- Titles, labels, legends (placement & best practices)\n",
    "- Colors, linewidth, alpha, linestyles, markers & marker styling\n",
    "- Pandas plotting API: area, bar, hist, line, scatter (with color/size), box, kde/density, hexbin\n",
    "- Visualization exercises (with solutions)\n",
    "- Time series plotting: xlim/ylim, grids, `matplotlib.dates` locators & formatters\n",
    "- Jupyter interactivity via `%matplotlib notebook` (optional)\n"
   ]
  },
  {
   "cell_type": "markdown",
   "id": "e94ec1ec",
   "metadata": {},
   "source": [
    "\n",
    "## Table of Contents\n",
    "1. [Imports](#imports)\n",
    "2. [Matplotlib: functional vs OO](#mpl-apis)\n",
    "3. [Subplots, figsize, DPI, savefig](#subplots)\n",
    "4. [Labels, titles, legends](#labels)\n",
    "5. [Colors, linewidth, linestyles, markers](#styles)\n",
    "6. [Pandas plotting examples](#pandasplot)\n",
    "7. [Visualization Exercises + Solutions](#vizex)\n",
    "8. [Time Series Visualization](#timeseries)\n",
    "9. [Jupyter Interactivity](#interactive)\n"
   ]
  },
  {
   "cell_type": "markdown",
   "id": "2eb406fb-c5a6-4e81-9dc5-15ab6a0053eb",
   "metadata": {},
   "source": [
    "## 🎯 Goal of This Section\n",
    "Learn how to create clear and customizable plots using Matplotlib.  \n",
    "**Key concepts:** `plt.figure`, `ax.plot()`, titles, labels, legends, colors, and line styles.\n",
    "\n"
   ]
  },
  {
   "cell_type": "markdown",
   "id": "c0c9130d",
   "metadata": {},
   "source": [
    "<a id='imports'></a>\n",
    "\n",
    "## 1) Imports"
   ]
  },
  {
   "cell_type": "code",
   "execution_count": null,
   "id": "c60d0f09",
   "metadata": {},
   "outputs": [],
   "source": [
    "\n",
    "import numpy as np\n",
    "import pandas as pd\n",
    "import matplotlib.pyplot as plt\n",
    "\n",
    "np.random.seed(101)\n"
   ]
  },
  {
   "cell_type": "markdown",
   "id": "2591e1d0",
   "metadata": {},
   "source": [
    "<a id='mpl-apis'></a>\n",
    "\n",
    "## 2) Matplotlib: functional vs OO"
   ]
  },
  {
   "cell_type": "code",
   "execution_count": null,
   "id": "04cd67fb",
   "metadata": {},
   "outputs": [],
   "source": [
    "\n",
    "x = np.linspace(0,5,11)\n",
    "y = x**2\n",
    "\n",
    "# Functional\n",
    "plt.plot(x, y)\n",
    "plt.xlabel(\"X label\")\n",
    "plt.ylabel(\"Y label\")\n",
    "plt.title(\"Functional API\")\n",
    "plt.show()\n",
    "\n",
    "# OO\n",
    "fig = plt.figure()\n",
    "ax = fig.add_subplot(111)\n",
    "ax.plot(x, y)\n",
    "ax.set_xlabel(\"X label\")\n",
    "ax.set_ylabel(\"Y label\")\n",
    "ax.set_title(\"OO API\")\n",
    "plt.show()\n"
   ]
  },
  {
   "cell_type": "markdown",
   "id": "10c632b2",
   "metadata": {},
   "source": [
    "<a id='subplots'></a>\n",
    "\n",
    "## 3) Subplots, figsize, DPI, savefig"
   ]
  },
  {
   "cell_type": "code",
   "execution_count": null,
   "id": "849a7e0b",
   "metadata": {},
   "outputs": [],
   "source": [
    "\n",
    "fig, axes = plt.subplots(nrows=1, ncols=2, figsize=(8,3), dpi=100)\n",
    "axes[0].plot(x, y, label=\"y=x^2\")\n",
    "axes[1].plot(y, x, label=\"x=sqrt(y)\")\n",
    "for i, ax in enumerate(axes):\n",
    "    ax.set_title(f\"Subplot {i+1}\")\n",
    "    ax.legend(loc=0)\n",
    "fig.tight_layout()\n",
    "fig.savefig(\"example_plot.png\", dpi=150)\n",
    "plt.show()\n"
   ]
  },
  {
   "cell_type": "markdown",
   "id": "00d0b4a2",
   "metadata": {},
   "source": [
    "<a id='labels'></a>\n",
    "\n",
    "## 4) Labels, titles, legends"
   ]
  },
  {
   "cell_type": "code",
   "execution_count": null,
   "id": "b0e2d2fa",
   "metadata": {},
   "outputs": [],
   "source": [
    "\n",
    "fig, ax = plt.subplots(figsize=(6,3))\n",
    "ax.plot(x, x**2, label=\"x^2\")\n",
    "ax.plot(x, x**3, label=\"x^3\")\n",
    "ax.set_xlabel(\"x\"); ax.set_ylabel(\"y\"); ax.set_title(\"Legend demo\")\n",
    "ax.legend(loc=0)     # let MPL choose best place\n",
    "plt.show()\n"
   ]
  },
  {
   "cell_type": "markdown",
   "id": "bc644535",
   "metadata": {},
   "source": [
    "<a id='styles'></a>\n",
    "\n",
    "## 5) Colors, linewidth, linestyles, markers"
   ]
  },
  {
   "cell_type": "code",
   "execution_count": null,
   "id": "6e61a464",
   "metadata": {},
   "outputs": [],
   "source": [
    "\n",
    "fig, ax = plt.subplots(figsize=(7,3))\n",
    "ax.plot(x, y, color=\"orange\", linewidth=3, alpha=0.7, linestyle=\"--\", marker=\"o\",\n",
    "        markersize=8, markerfacecolor=\"yellow\", markeredgewidth=2, markeredgecolor=\"green\")\n",
    "ax.set_title(\"Line & marker styling\")\n",
    "plt.show()\n"
   ]
  },
  {
   "cell_type": "markdown",
   "id": "9e4119fe",
   "metadata": {},
   "source": [
    "<a id='pandasplot'></a>\n",
    "\n",
    "## 6) Pandas plotting examples"
   ]
  },
  {
   "cell_type": "code",
   "execution_count": null,
   "id": "4991f4e4",
   "metadata": {},
   "outputs": [],
   "source": [
    "\n",
    "df1 = pd.DataFrame(np.random.randn(100,4), columns=list(\"ABCD\"))\n",
    "# Area\n",
    "df1[:20].plot.area(alpha=0.4, figsize=(7,3)); plt.title(\"Area\"); plt.show()\n",
    "# Bar\n",
    "df1[:5].plot.bar(figsize=(7,3)); plt.title(\"Bar\"); plt.show()\n",
    "df1[:5].plot.bar(stacked=True, figsize=(7,3)); plt.title(\"Bar (stacked)\"); plt.show()\n",
    "# Hist\n",
    "df1['A'].plot.hist(bins=20, figsize=(6,3)); plt.title(\"Hist A\"); plt.show()\n",
    "# Line (time-like index demo)\n",
    "tdf = df1.copy(); tdf.index = pd.date_range(\"2020-01-01\", periods=len(df1), freq=\"D\")\n",
    "tdf['B'].plot(figsize=(7,3)); plt.title(\"Line on Date index\"); plt.show()\n",
    "# Scatter with color/size\n",
    "ax = df1.plot.scatter(x=\"A\", y=\"B\", c=\"C\", cmap=\"coolwarm\", s=(df1[\"D\"].abs()+0.1)*200, figsize=(6,4))\n",
    "ax.set_title(\"Scatter with color & size\"); plt.show()\n",
    "# Box\n",
    "df1.plot.box(figsize=(6,3)); plt.title(\"Boxplot\"); plt.show()\n",
    "# KDE / density\n",
    "df1['A'].plot.kde(figsize=(6,3), linewidth=2, linestyle=\"--\"); plt.title(\"KDE A\"); plt.show()\n",
    "# Hexbin (bivariate density)\n",
    "df_hex = pd.DataFrame(np.random.randn(1000,2), columns=['A','B'])\n",
    "df_hex.plot.hexbin(x='A', y='B', gridsize=25, cmap='viridis', figsize=(6,4)); plt.title(\"Hexbin\"); plt.show()\n"
   ]
  },
  {
   "cell_type": "markdown",
   "id": "363dc99f",
   "metadata": {},
   "source": [
    "<a id='vizex'></a>\n",
    "\n",
    "## 7) Visualization Exercises + Solutions"
   ]
  },
  {
   "cell_type": "markdown",
   "id": "262a1703",
   "metadata": {},
   "source": [
    "\n",
    "**Dataset:** `df3` (synthetic)  \n",
    "**Tasks:**  \n",
    "1) Scatter of **B vs A** (wider figure, bigger markers, custom color)  \n",
    "2) Histogram of **A** with more bins and style sheet  \n",
    "3) Box plot comparing **A** and **B** only  \n",
    "4) KDE of **D** with dashed line and thicker width  \n",
    "5) Area plot for first 30 rows; place legend **outside** the plot\n"
   ]
  },
  {
   "cell_type": "code",
   "execution_count": null,
   "id": "38facb7c",
   "metadata": {},
   "outputs": [],
   "source": [
    "\n",
    "# Create df3\n",
    "df3 = pd.DataFrame(np.random.randn(100,4), columns=list(\"ABCD\"))\n",
    "df3.head()\n"
   ]
  },
  {
   "cell_type": "code",
   "execution_count": null,
   "id": "a5e5be05",
   "metadata": {},
   "outputs": [],
   "source": [
    "\n",
    "# 1) Scatter B vs A\n",
    "ax = df3.plot.scatter(x=\"A\", y=\"B\", s=50, c=\"steelblue\", figsize=(8,4), title=\"B vs A\")\n",
    "plt.show()\n"
   ]
  },
  {
   "cell_type": "code",
   "execution_count": null,
   "id": "8bae9376",
   "metadata": {},
   "outputs": [],
   "source": [
    "\n",
    "# 2) Histogram A with style and more bins\n",
    "plt.style.use(\"ggplot\")\n",
    "df3['A'].plot.hist(bins=30, alpha=0.8, figsize=(7,3), title=\"Hist A (ggplot)\")\n",
    "plt.show()\n"
   ]
  },
  {
   "cell_type": "code",
   "execution_count": null,
   "id": "f843b033",
   "metadata": {},
   "outputs": [],
   "source": [
    "\n",
    "# 3) Box plot A & B only\n",
    "df3[['A','B']].plot.box(figsize=(6,3), title=\"Box A & B\"); plt.show()\n"
   ]
  },
  {
   "cell_type": "code",
   "execution_count": null,
   "id": "fea2bfbf",
   "metadata": {},
   "outputs": [],
   "source": [
    "\n",
    "# 4) KDE of D dashed and thicker\n",
    "df3['D'].plot.kde(linewidth=2.5, linestyle=\"--\", title=\"KDE D\"); plt.show()\n"
   ]
  },
  {
   "cell_type": "code",
   "execution_count": null,
   "id": "ed0c39ec",
   "metadata": {},
   "outputs": [],
   "source": [
    "\n",
    "# 5) Area plot first 30 rows, legend outside\n",
    "ax = df3[:30].plot.area(alpha=0.4, figsize=(7,3), title=\"Area (first 30)\")\n",
    "# Move legend outside\n",
    "plt.legend(loc='center left', bbox_to_anchor=(1, 0.5))\n",
    "plt.tight_layout()\n",
    "plt.show()\n"
   ]
  },
  {
   "cell_type": "markdown",
   "id": "48e19598",
   "metadata": {},
   "source": [
    "<a id='timeseries'></a>\n",
    "\n",
    "## 8) Time Series Visualization"
   ]
  },
  {
   "cell_type": "code",
   "execution_count": null,
   "id": "ccfa7d88",
   "metadata": {},
   "outputs": [],
   "source": [
    "\n",
    "import matplotlib.dates as mdates\n",
    "\n",
    "idx = pd.date_range(\"2007-01-01\", periods=130, freq=\"D\")\n",
    "s = pd.Series((np.sin(np.linspace(0,10,130))+1)*25+10, index=idx, name=\"Adj Close\")\n",
    "\n",
    "fig, ax = plt.subplots(figsize=(9,3))\n",
    "s.plot(ax=ax, color=\"tab:red\")\n",
    "ax.set_title(\"Example Time Series\")\n",
    "ax.set_xlim(pd.Timestamp(\"2007-01-01\"), pd.Timestamp(\"2007-05-01\"))\n",
    "ax.set_ylim(0, 60)\n",
    "\n",
    "# Major locator/formatter by Month\n",
    "ax.xaxis.set_major_locator(mdates.MonthLocator())\n",
    "ax.xaxis.set_major_formatter(mdates.DateFormatter(\"%b-%Y\"))\n",
    "\n",
    "# Minor locator/formatter by Week (Mondays)\n",
    "ax.xaxis.set_minor_locator(mdates.WeekdayLocator(byweekday=mdates.MO))\n",
    "ax.grid(True, axis='y', linestyle=':', alpha=0.5)\n",
    "fig.autofmt_xdate()\n",
    "plt.show()\n"
   ]
  },
  {
   "cell_type": "markdown",
   "id": "28563286",
   "metadata": {},
   "source": [
    "<a id='interactive'></a>\n",
    "\n",
    "## 9) Jupyter Interactivity"
   ]
  },
  {
   "cell_type": "markdown",
   "id": "eb3f048b",
   "metadata": {},
   "source": [
    "\n",
    "To enable basic interactive zoom/pan in classic notebooks:\n",
    "\n",
    "```python\n",
    "%matplotlib notebook\n",
    "# (then re-run your plotting cells)\n",
    "```\n",
    "\n",
    "Use the toolbar: Home, Back/Forward, Pan, Rectangle Zoom. Click the power icon to return to static.\n"
   ]
  }
 ],
 "metadata": {
  "kernelspec": {
   "display_name": "OptionPricing (venv)",
   "language": "python",
   "name": "optionpricing-venv"
  },
  "language_info": {
   "codemirror_mode": {
    "name": "ipython",
    "version": 3
   },
   "file_extension": ".py",
   "mimetype": "text/x-python",
   "name": "python",
   "nbconvert_exporter": "python",
   "pygments_lexer": "ipython3",
   "version": "3.12.0"
  }
 },
 "nbformat": 4,
 "nbformat_minor": 5
}
