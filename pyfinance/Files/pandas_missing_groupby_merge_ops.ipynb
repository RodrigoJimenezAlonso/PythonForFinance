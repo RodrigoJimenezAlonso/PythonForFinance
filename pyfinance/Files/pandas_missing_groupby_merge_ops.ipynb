{
 "cells": [
  {
   "cell_type": "markdown",
   "id": "b4473e16",
   "metadata": {},
   "source": [
    "# Pandas: Missing Data, GroupBy, Merge/Join/Concat, Useful Ops (with solutions)"
   ]
  },
  {
   "cell_type": "code",
   "execution_count": null,
   "id": "a05a865f",
   "metadata": {},
   "outputs": [],
   "source": [
    "\n",
    "import numpy as np, pandas as pd\n"
   ]
  },
  {
   "cell_type": "markdown",
   "id": "8582f100",
   "metadata": {},
   "source": [
    "## Missing data: dropna / fillna"
   ]
  },
  {
   "cell_type": "code",
   "execution_count": null,
   "id": "1b81fefe",
   "metadata": {},
   "outputs": [],
   "source": [
    "\n",
    "d = {\"A\":[1,2,np.nan],\"B\":[5,np.nan,np.nan],\"C\":[1,2,3]}\n",
    "df = pd.DataFrame(d)\n",
    "df, df.dropna(), df.dropna(axis=1), df.dropna(thresh=2)\n"
   ]
  },
  {
   "cell_type": "code",
   "execution_count": null,
   "id": "0f1d8252",
   "metadata": {},
   "outputs": [],
   "source": [
    "\n",
    "# Fill with scalar\n",
    "df_fill = df.fillna(\"FILL\")\n",
    "# Fill with column mean (A)\n",
    "df[\"A\"] = df[\"A\"].fillna(df[\"A\"].mean())\n",
    "df, df_fill\n"
   ]
  },
  {
   "cell_type": "markdown",
   "id": "efde68a7",
   "metadata": {},
   "source": [
    "## GroupBy & aggregation"
   ]
  },
  {
   "cell_type": "code",
   "execution_count": null,
   "id": "69ec93ac",
   "metadata": {},
   "outputs": [],
   "source": [
    "\n",
    "data = {\"Company\":[\"GOOG\",\"GOOG\",\"MSFT\",\"MSFT\",\"FB\",\"FB\"],\n",
    "        \"Person\":[\"Sam\",\"Charlie\",\"Amy\",\"Vanessa\",\"Carl\",\"Sarah\"],\n",
    "        \"Sales\":[200,120,340,124,243,350]}\n",
    "gdf = pd.DataFrame(data)\n",
    "grp = gdf.groupby(\"Company\")\n",
    "grp.mean(numeric_only=True), grp.sum(numeric_only=True), grp.describe()\n"
   ]
  },
  {
   "cell_type": "markdown",
   "id": "c24be71f",
   "metadata": {},
   "source": [
    "## Concatenation"
   ]
  },
  {
   "cell_type": "code",
   "execution_count": null,
   "id": "2b96e759",
   "metadata": {},
   "outputs": [],
   "source": [
    "\n",
    "f1 = pd.DataFrame({\"A\":[1,2,3],\"B\":[4,5,6]}, index=[0,1,2])\n",
    "f2 = pd.DataFrame({\"A\":[4,5,6],\"B\":[7,8,9]}, index=[3,4,5])\n",
    "pd.concat([f1,f2], axis=0)\n"
   ]
  },
  {
   "cell_type": "markdown",
   "id": "b5cfcc6b",
   "metadata": {},
   "source": [
    "## Merge (SQL-style) & Join (index-based)"
   ]
  },
  {
   "cell_type": "code",
   "execution_count": null,
   "id": "9c54aa5f",
   "metadata": {},
   "outputs": [],
   "source": [
    "\n",
    "left  = pd.DataFrame({\"key\":[\"K0\",\"K1\",\"K2\",\"K3\"], \"A\":[1,2,3,4], \"B\":[5,6,7,8]})\n",
    "right = pd.DataFrame({\"key\":[\"K0\",\"K1\",\"K2\",\"K3\"], \"C\":[9,10,11,12], \"D\":[13,14,15,16]})\n",
    "pd.merge(left, right, on=\"key\", how=\"inner\")\n"
   ]
  },
  {
   "cell_type": "code",
   "execution_count": null,
   "id": "d2db0a77",
   "metadata": {},
   "outputs": [],
   "source": [
    "\n",
    "# Join by index\n",
    "l = left.set_index(\"key\")\n",
    "r = right.set_index(\"key\")\n",
    "l.join(r, how=\"inner\")\n"
   ]
  },
  {
   "cell_type": "markdown",
   "id": "193fab4c",
   "metadata": {},
   "source": [
    "## Useful ops: unique / nunique / value_counts / apply / sort_values / pivot_table"
   ]
  },
  {
   "cell_type": "code",
   "execution_count": null,
   "id": "35f72d8b",
   "metadata": {},
   "outputs": [],
   "source": [
    "\n",
    "df2 = pd.DataFrame({\"col1\":[1,2,2,3], \"col2\":[444,444,555,666], \"col3\":[\"abc\",\"def\",\"ghi\",\"xyz\"]})\n",
    "df2[\"col2\"].unique(), df2[\"col2\"].nunique(), df2[\"col2\"].value_counts()\n"
   ]
  },
  {
   "cell_type": "code",
   "execution_count": null,
   "id": "e9dfe097",
   "metadata": {},
   "outputs": [],
   "source": [
    "\n",
    "# apply with lambda\n",
    "df2[\"col1_x2\"] = df2[\"col1\"].apply(lambda x: x*2)\n",
    "df2.sort_values(\"col2\")\n"
   ]
  },
  {
   "cell_type": "code",
   "execution_count": null,
   "id": "098b19ff",
   "metadata": {},
   "outputs": [],
   "source": [
    "\n",
    "# pivot table\n",
    "df_pv = pd.DataFrame({\n",
    "    \"A\":[\"foo\",\"foo\",\"bar\",\"bar\"],\n",
    "    \"B\":[1,2,1,2],\n",
    "    \"C\":[\"x\",\"y\",\"x\",\"y\"],\n",
    "    \"D\":[10,20,30,40]\n",
    "})\n",
    "df_pv.pivot_table(values=\"D\", index=[\"A\",\"B\"], columns=\"C\")\n"
   ]
  },
  {
   "cell_type": "markdown",
   "id": "eb23b827",
   "metadata": {},
   "source": [
    "## Exercises (solved)"
   ]
  },
  {
   "cell_type": "code",
   "execution_count": null,
   "id": "497c5d36",
   "metadata": {},
   "outputs": [],
   "source": [
    "\n",
    "# E1: Drop columns that contain any NaN from df\n",
    "d = {\"A\":[1,2,np.nan],\"B\":[np.nan,np.nan,3],\"C\":[1,2,3]}\n",
    "e1 = pd.DataFrame(d)\n",
    "sol_E1 = e1.dropna(axis=1)\n",
    "sol_E1\n"
   ]
  },
  {
   "cell_type": "code",
   "execution_count": null,
   "id": "bfbb6fc6",
   "metadata": {},
   "outputs": [],
   "source": [
    "\n",
    "# E2: GroupBy sum of Sales; return value for 'FB'\n",
    "val_FB = gdf.groupby(\"Company\")[\"Sales\"].sum().loc[\"FB\"]\n",
    "val_FB\n"
   ]
  },
  {
   "cell_type": "code",
   "execution_count": null,
   "id": "9dd5d5cb",
   "metadata": {},
   "outputs": [],
   "source": [
    "\n",
    "# E3: Merge left/right on 'key' and sort by D descending\n",
    "merged = pd.merge(left, right, on=\"key\").sort_values(\"D\", ascending=False)\n",
    "merged\n"
   ]
  }
 ],
 "metadata": {},
 "nbformat": 4,
 "nbformat_minor": 5
}
